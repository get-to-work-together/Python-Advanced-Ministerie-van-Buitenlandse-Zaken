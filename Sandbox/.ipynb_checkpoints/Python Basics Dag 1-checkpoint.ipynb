{
 "cells": [
  {
   "cell_type": "code",
   "execution_count": 16,
   "id": "20043026-730c-4dfa-b662-8496870fbbfb",
   "metadata": {},
   "outputs": [
    {
     "name": "stdout",
     "output_type": "stream",
     "text": [
      "Hello world\n"
     ]
    }
   ],
   "source": [
    "print('Hello world')"
   ]
  },
  {
   "cell_type": "markdown",
   "id": "1ad442d6-40ac-4b84-a2c7-6aa2cccb7439",
   "metadata": {},
   "source": [
    "# Python Basics\n",
    "\n",
    "* Variables\n",
    "* Operators\n",
    "* Functions\n",
    "\n",
    "https://www.w3schools.com/python/default.asp"
   ]
  },
  {
   "cell_type": "code",
   "execution_count": 52,
   "id": "e4321c6f-a8c4-472e-831c-739f7b96c26c",
   "metadata": {},
   "outputs": [],
   "source": [
    "aantal_deelnemers = 8"
   ]
  },
  {
   "cell_type": "code",
   "execution_count": 53,
   "id": "b95fbe8d-7c2c-4c1b-9f6b-75f463638887",
   "metadata": {},
   "outputs": [
    {
     "data": {
      "text/plain": [
       "8"
      ]
     },
     "execution_count": 53,
     "metadata": {},
     "output_type": "execute_result"
    }
   ],
   "source": [
    "aantal_deelnemers"
   ]
  },
  {
   "cell_type": "code",
   "execution_count": 54,
   "id": "db50e36e-7e29-4cd1-a852-96a450e2bcbd",
   "metadata": {},
   "outputs": [
    {
     "data": {
      "text/plain": [
       "9"
      ]
     },
     "execution_count": 54,
     "metadata": {},
     "output_type": "execute_result"
    }
   ],
   "source": [
    "aantal_deelnemers + 1"
   ]
  },
  {
   "cell_type": "code",
   "execution_count": 47,
   "id": "08abf272-ffd5-4179-9004-9c34f0bf1695",
   "metadata": {},
   "outputs": [
    {
     "data": {
      "text/plain": [
       "8"
      ]
     },
     "execution_count": 47,
     "metadata": {},
     "output_type": "execute_result"
    }
   ],
   "source": [
    "aantal_deelnemers"
   ]
  },
  {
   "cell_type": "code",
   "execution_count": 48,
   "id": "0001fdd6-0a22-4aa2-89a2-8824d5132fc8",
   "metadata": {},
   "outputs": [],
   "source": [
    "aantal_deelnemers = aantal_deelnemers + 1"
   ]
  },
  {
   "cell_type": "code",
   "execution_count": 49,
   "id": "b60944a0-b0b7-4520-8110-9310d96926c4",
   "metadata": {},
   "outputs": [
    {
     "data": {
      "text/plain": [
       "9"
      ]
     },
     "execution_count": 49,
     "metadata": {},
     "output_type": "execute_result"
    }
   ],
   "source": [
    "aantal_deelnemers"
   ]
  },
  {
   "cell_type": "code",
   "execution_count": 55,
   "id": "68ed8c59-9f9f-40a8-906e-43468fafd4d7",
   "metadata": {},
   "outputs": [
    {
     "name": "stdout",
     "output_type": "stream",
     "text": [
      "8\n"
     ]
    }
   ],
   "source": [
    "print(aantal_deelnemers)"
   ]
  },
  {
   "cell_type": "code",
   "execution_count": 56,
   "id": "bdbfff88-6301-4d96-adb9-54414ab6ed40",
   "metadata": {},
   "outputs": [
    {
     "data": {
      "text/plain": [
       "int"
      ]
     },
     "execution_count": 56,
     "metadata": {},
     "output_type": "execute_result"
    }
   ],
   "source": [
    "type(aantal_deelnemers)"
   ]
  },
  {
   "cell_type": "code",
   "execution_count": 58,
   "id": "a7d5e9be-a13d-4d44-bfba-8590ee79264b",
   "metadata": {},
   "outputs": [
    {
     "data": {
      "text/plain": [
       "4.625"
      ]
     },
     "execution_count": 58,
     "metadata": {},
     "output_type": "execute_result"
    }
   ],
   "source": [
    "37 / 8"
   ]
  },
  {
   "cell_type": "code",
   "execution_count": 59,
   "id": "56f76cbb-720d-458d-a451-417f58a16f50",
   "metadata": {},
   "outputs": [
    {
     "data": {
      "text/plain": [
       "4"
      ]
     },
     "execution_count": 59,
     "metadata": {},
     "output_type": "execute_result"
    }
   ],
   "source": [
    "37 // 8"
   ]
  },
  {
   "cell_type": "code",
   "execution_count": 60,
   "id": "da30ecd6-d4ed-4cd6-96f5-0ae5462f2183",
   "metadata": {},
   "outputs": [
    {
     "data": {
      "text/plain": [
       "5"
      ]
     },
     "execution_count": 60,
     "metadata": {},
     "output_type": "execute_result"
    }
   ],
   "source": [
    "37 % 8"
   ]
  },
  {
   "cell_type": "code",
   "execution_count": 61,
   "id": "b72fffd8-7e52-4d84-8041-ae4d2fdbeedb",
   "metadata": {},
   "outputs": [
    {
     "data": {
      "text/plain": [
       "3512479453921"
      ]
     },
     "execution_count": 61,
     "metadata": {},
     "output_type": "execute_result"
    }
   ],
   "source": [
    "37 ** 8"
   ]
  },
  {
   "cell_type": "code",
   "execution_count": 62,
   "id": "f0552445-b3cb-4614-a790-412e5c1b36b0",
   "metadata": {},
   "outputs": [],
   "source": [
    "n = 8934578347598345798435734589734589753498345789534798534734573459834598"
   ]
  },
  {
   "cell_type": "code",
   "execution_count": 63,
   "id": "7b508ffd-0d24-41b8-8232-a6968d6db96d",
   "metadata": {},
   "outputs": [
    {
     "data": {
      "text/plain": [
       "8934578347598345798435734589734589753498345789534798534734573459834598"
      ]
     },
     "execution_count": 63,
     "metadata": {},
     "output_type": "execute_result"
    }
   ],
   "source": [
    "n"
   ]
  },
  {
   "cell_type": "code",
   "execution_count": 64,
   "id": "7396c4e9-4891-4e0b-903d-0005bcd4a99b",
   "metadata": {},
   "outputs": [
    {
     "data": {
      "text/plain": [
       "8934578347598345798435734589734589753498345789534798534734573459834599"
      ]
     },
     "execution_count": 64,
     "metadata": {},
     "output_type": "execute_result"
    }
   ],
   "source": [
    "n + 1"
   ]
  },
  {
   "cell_type": "code",
   "execution_count": 65,
   "id": "c868284e-abe6-4c28-b5f7-0f8fa6e9a86e",
   "metadata": {},
   "outputs": [],
   "source": [
    "f1 = 0.1\n",
    "f2 = 0.2"
   ]
  },
  {
   "cell_type": "code",
   "execution_count": 68,
   "id": "39ac9e5d-2850-4bb2-9f4c-4f7256619614",
   "metadata": {},
   "outputs": [
    {
     "data": {
      "text/plain": [
       "0.30000000000000004"
      ]
     },
     "execution_count": 68,
     "metadata": {},
     "output_type": "execute_result"
    }
   ],
   "source": [
    "f1 + f2"
   ]
  },
  {
   "cell_type": "code",
   "execution_count": 69,
   "id": "ba3b8f39-c21a-4728-9dc7-84029e4e89f8",
   "metadata": {},
   "outputs": [
    {
     "data": {
      "text/plain": [
       "False"
      ]
     },
     "execution_count": 69,
     "metadata": {},
     "output_type": "execute_result"
    }
   ],
   "source": [
    "0.1 + 0.2 == 0.3"
   ]
  },
  {
   "cell_type": "code",
   "execution_count": 74,
   "id": "cd507e41-2606-443a-be83-9af4c1e05727",
   "metadata": {},
   "outputs": [
    {
     "data": {
      "text/plain": [
       "True"
      ]
     },
     "execution_count": 74,
     "metadata": {},
     "output_type": "execute_result"
    }
   ],
   "source": [
    "0.1 + 0.1 == 0.2"
   ]
  },
  {
   "cell_type": "code",
   "execution_count": 76,
   "id": "c2bc3239-1692-4e0a-9502-696c406edd87",
   "metadata": {},
   "outputs": [
    {
     "data": {
      "text/plain": [
       "True"
      ]
     },
     "execution_count": 76,
     "metadata": {},
     "output_type": "execute_result"
    }
   ],
   "source": [
    "round(0.1 + 0.2, 10) == 0.3"
   ]
  },
  {
   "cell_type": "markdown",
   "id": "d1e7dede-9298-4587-b0f9-246a9ad10872",
   "metadata": {},
   "source": [
    "## Zen of Python"
   ]
  },
  {
   "cell_type": "code",
   "execution_count": 77,
   "id": "af42d8a6-924e-4f63-8648-28a6a63fa082",
   "metadata": {},
   "outputs": [
    {
     "name": "stdout",
     "output_type": "stream",
     "text": [
      "The Zen of Python, by Tim Peters\n",
      "\n",
      "Beautiful is better than ugly.\n",
      "Explicit is better than implicit.\n",
      "Simple is better than complex.\n",
      "Complex is better than complicated.\n",
      "Flat is better than nested.\n",
      "Sparse is better than dense.\n",
      "Readability counts.\n",
      "Special cases aren't special enough to break the rules.\n",
      "Although practicality beats purity.\n",
      "Errors should never pass silently.\n",
      "Unless explicitly silenced.\n",
      "In the face of ambiguity, refuse the temptation to guess.\n",
      "There should be one-- and preferably only one --obvious way to do it.\n",
      "Although that way may not be obvious at first unless you're Dutch.\n",
      "Now is better than never.\n",
      "Although never is often better than *right* now.\n",
      "If the implementation is hard to explain, it's a bad idea.\n",
      "If the implementation is easy to explain, it may be a good idea.\n",
      "Namespaces are one honking great idea -- let's do more of those!\n"
     ]
    }
   ],
   "source": [
    "import this"
   ]
  },
  {
   "cell_type": "markdown",
   "id": "df29dbd1-4a89-4a26-89cb-fc1de6361381",
   "metadata": {},
   "source": [
    "## Built-in functions"
   ]
  },
  {
   "cell_type": "code",
   "execution_count": 78,
   "id": "864c00e5-9730-4b54-bc48-45bfa17fcec3",
   "metadata": {},
   "outputs": [
    {
     "ename": "TypeError",
     "evalue": "'int' object is not iterable",
     "output_type": "error",
     "traceback": [
      "\u001b[0;31m---------------------------------------------------------------------------\u001b[0m",
      "\u001b[0;31mTypeError\u001b[0m                                 Traceback (most recent call last)",
      "Cell \u001b[0;32mIn[78], line 1\u001b[0m\n\u001b[0;32m----> 1\u001b[0m \u001b[38;5;28;43msum\u001b[39;49m\u001b[43m(\u001b[49m\u001b[38;5;241;43m2\u001b[39;49m\u001b[43m,\u001b[49m\u001b[43m \u001b[49m\u001b[38;5;241;43m4\u001b[39;49m\u001b[43m)\u001b[49m\n",
      "\u001b[0;31mTypeError\u001b[0m: 'int' object is not iterable"
     ]
    }
   ],
   "source": [
    "sum(2, 4)"
   ]
  },
  {
   "cell_type": "code",
   "execution_count": 79,
   "id": "f1304997-9d20-4f9d-ad7a-734af42f2acb",
   "metadata": {},
   "outputs": [],
   "source": [
    "getallen = [3,6,9,3,5]"
   ]
  },
  {
   "cell_type": "code",
   "execution_count": 80,
   "id": "667e7484-f0a4-4c9d-a6df-380370ae05bb",
   "metadata": {},
   "outputs": [
    {
     "data": {
      "text/plain": [
       "[3, 6, 9, 3, 5]"
      ]
     },
     "execution_count": 80,
     "metadata": {},
     "output_type": "execute_result"
    }
   ],
   "source": [
    "getallen"
   ]
  },
  {
   "cell_type": "code",
   "execution_count": 81,
   "id": "96e88dff-f066-476a-879b-a65dce7f148e",
   "metadata": {},
   "outputs": [
    {
     "data": {
      "text/plain": [
       "list"
      ]
     },
     "execution_count": 81,
     "metadata": {},
     "output_type": "execute_result"
    }
   ],
   "source": [
    "type(getallen)"
   ]
  },
  {
   "cell_type": "code",
   "execution_count": 82,
   "id": "29f11238-3ba6-4824-b140-a33603e3779a",
   "metadata": {},
   "outputs": [
    {
     "data": {
      "text/plain": [
       "5"
      ]
     },
     "execution_count": 82,
     "metadata": {},
     "output_type": "execute_result"
    }
   ],
   "source": [
    "len(getallen)"
   ]
  },
  {
   "cell_type": "code",
   "execution_count": 83,
   "id": "19267570-9e7b-492f-aff7-e4b0a1f8af69",
   "metadata": {},
   "outputs": [
    {
     "data": {
      "text/plain": [
       "26"
      ]
     },
     "execution_count": 83,
     "metadata": {},
     "output_type": "execute_result"
    }
   ],
   "source": [
    "sum(getallen)"
   ]
  },
  {
   "cell_type": "code",
   "execution_count": 84,
   "id": "5ae13691-a19f-448e-89cd-f83cffa99e81",
   "metadata": {},
   "outputs": [
    {
     "data": {
      "text/plain": [
       "3"
      ]
     },
     "execution_count": 84,
     "metadata": {},
     "output_type": "execute_result"
    }
   ],
   "source": [
    "min(getallen)"
   ]
  },
  {
   "cell_type": "code",
   "execution_count": 85,
   "id": "f565d8e8-c697-4bf2-ac9f-5a2ddbdf5a85",
   "metadata": {},
   "outputs": [
    {
     "data": {
      "text/plain": [
       "9"
      ]
     },
     "execution_count": 85,
     "metadata": {},
     "output_type": "execute_result"
    }
   ],
   "source": [
    "max(getallen)"
   ]
  },
  {
   "cell_type": "code",
   "execution_count": null,
   "id": "289441cd-3448-4438-a2f8-7b2ca1b48ba7",
   "metadata": {},
   "outputs": [],
   "source": [
    "import statistics "
   ]
  },
  {
   "cell_type": "code",
   "execution_count": 93,
   "id": "4eda78a2-f248-483f-9ed8-da920016cca1",
   "metadata": {},
   "outputs": [
    {
     "name": "stdout",
     "output_type": "stream",
     "text": [
      "5.2\n",
      "5\n",
      "3\n"
     ]
    }
   ],
   "source": [
    "print(statistics.mean(getallen))\n",
    "print(statistics.median(getallen))\n",
    "print(statistics.mode(getallen))"
   ]
  },
  {
   "cell_type": "code",
   "execution_count": 94,
   "id": "a9316065-74b6-4a8c-9e41-df3682b2b195",
   "metadata": {},
   "outputs": [],
   "source": [
    "mean = sum(getallen) / len(getallen)"
   ]
  },
  {
   "cell_type": "code",
   "execution_count": 95,
   "id": "db5aa22b-9575-4dd2-8aea-ce92e7f19721",
   "metadata": {},
   "outputs": [
    {
     "data": {
      "text/plain": [
       "5.2"
      ]
     },
     "execution_count": 95,
     "metadata": {},
     "output_type": "execute_result"
    }
   ],
   "source": [
    "mean"
   ]
  },
  {
   "cell_type": "code",
   "execution_count": 96,
   "id": "a3dd050c-4df6-4972-857f-5dc260f61f5d",
   "metadata": {},
   "outputs": [
    {
     "data": {
      "text/plain": [
       "True"
      ]
     },
     "execution_count": 96,
     "metadata": {},
     "output_type": "execute_result"
    }
   ],
   "source": [
    "import math\n",
    "\n",
    "math.isclose(0.1 + 0.2, 0.3)"
   ]
  },
  {
   "cell_type": "code",
   "execution_count": 106,
   "id": "e32d02a5-08fe-487a-87a9-b81304e2910d",
   "metadata": {},
   "outputs": [],
   "source": [
    "print = 10"
   ]
  },
  {
   "cell_type": "code",
   "execution_count": 109,
   "id": "522ca059-dc74-4913-923c-d7f5cd235a05",
   "metadata": {},
   "outputs": [
    {
     "name": "stdout",
     "output_type": "stream",
     "text": [
      "Hello world\n"
     ]
    }
   ],
   "source": [
    "print('Hello world')"
   ]
  },
  {
   "cell_type": "code",
   "execution_count": 108,
   "id": "4646709e-fe0a-4b31-9bfc-dcb07c262cf4",
   "metadata": {},
   "outputs": [],
   "source": [
    "del print"
   ]
  },
  {
   "cell_type": "markdown",
   "id": "13927d30-61fd-4e76-8adc-aa3ecaf18ed5",
   "metadata": {},
   "source": [
    "## Strings"
   ]
  },
  {
   "cell_type": "code",
   "execution_count": 112,
   "id": "c9e57a88-f22d-4610-9d80-56bfbcaaddaf",
   "metadata": {},
   "outputs": [],
   "source": [
    "naam = 'Peter'\n",
    "naam = \"Peter\"\n",
    "naam = \"Peter's verlanglijstje\"\n",
    "naam = \"Peter\\'s verlanglijstje\"\n",
    "naam = \"Peter zegt \\\"Hoi\\\"\""
   ]
  },
  {
   "cell_type": "code",
   "execution_count": 113,
   "id": "2fb9cc3a-662a-49e6-af9a-91315b451c96",
   "metadata": {},
   "outputs": [
    {
     "name": "stdout",
     "output_type": "stream",
     "text": [
      "Peter zegt \"Hoi\"\n"
     ]
    }
   ],
   "source": [
    "print(naam)"
   ]
  },
  {
   "cell_type": "code",
   "execution_count": 114,
   "id": "41dd3132-5e0f-4d29-be56-897a6e99fbb3",
   "metadata": {},
   "outputs": [
    {
     "data": {
      "text/plain": [
       "str"
      ]
     },
     "execution_count": 114,
     "metadata": {},
     "output_type": "execute_result"
    }
   ],
   "source": [
    "type(naam)"
   ]
  },
  {
   "cell_type": "code",
   "execution_count": 115,
   "id": "576f4f15-f863-4366-922b-fbee8f096710",
   "metadata": {},
   "outputs": [
    {
     "data": {
      "text/plain": [
       "'abcxyz'"
      ]
     },
     "execution_count": 115,
     "metadata": {},
     "output_type": "execute_result"
    }
   ],
   "source": [
    "'abc' + 'xyz'"
   ]
  },
  {
   "cell_type": "code",
   "execution_count": 120,
   "id": "c7fb4989-bbd2-460d-8f01-b837d9475976",
   "metadata": {},
   "outputs": [
    {
     "name": "stdout",
     "output_type": "stream",
     "text": [
      "PeterPeterPeterPeterPeterPeterPeterPeterPeterPeter\n"
     ]
    }
   ],
   "source": [
    "naam = 'Peter'\n",
    "\n",
    "print( 10 * naam )"
   ]
  },
  {
   "cell_type": "code",
   "execution_count": 122,
   "id": "96097ca0-813a-4e19-a436-268bf8cd4974",
   "metadata": {},
   "outputs": [
    {
     "data": {
      "text/plain": [
       "'********************************************************************************'"
      ]
     },
     "execution_count": 122,
     "metadata": {},
     "output_type": "execute_result"
    }
   ],
   "source": [
    "80 * '*'"
   ]
  },
  {
   "cell_type": "code",
   "execution_count": 124,
   "id": "87a4fedc-5d98-4f95-8ec7-9c58bf9502e9",
   "metadata": {},
   "outputs": [
    {
     "name": "stdout",
     "output_type": "stream",
     "text": [
      "Mijn naam is Peter.\n"
     ]
    }
   ],
   "source": [
    "print('Mijn naam is ' + naam + '.')"
   ]
  },
  {
   "cell_type": "code",
   "execution_count": 125,
   "id": "5397b9f5-7ceb-4247-b6e7-eb47b5bfa3cb",
   "metadata": {},
   "outputs": [
    {
     "name": "stdout",
     "output_type": "stream",
     "text": [
      "Mijn naam is Peter.\n"
     ]
    }
   ],
   "source": [
    "print(f'Mijn naam is {naam}.')"
   ]
  },
  {
   "cell_type": "code",
   "execution_count": 157,
   "id": "10e26d6c-8754-4be1-a431-385eafc601b8",
   "metadata": {},
   "outputs": [
    {
     "name": "stdout",
     "output_type": "stream",
     "text": [
      "Mijn naam is Peter.\n"
     ]
    }
   ],
   "source": [
    "print('Mijn naam is %s.' % naam)"
   ]
  },
  {
   "cell_type": "code",
   "execution_count": 165,
   "id": "79a3f2d0-35f7-4e42-a0b8-cb278ce9193c",
   "metadata": {},
   "outputs": [
    {
     "name": "stdout",
     "output_type": "stream",
     "text": [
      "3.141592653589793\n",
      "Pi is 3.141592653589793\n",
      "Pi is 3.142\n",
      "Pi is      3.142\n"
     ]
    }
   ],
   "source": [
    "import math\n",
    "print(math.pi)\n",
    "\n",
    "print(f'Pi is {math.pi}')\n",
    "print(f'Pi is {round(math.pi, 3)}')\n",
    "print(f'Pi is {math.pi:10.3f}')"
   ]
  },
  {
   "cell_type": "code",
   "execution_count": 126,
   "id": "0f61ee6c-a08b-4af9-adf0-b7ae739c64be",
   "metadata": {},
   "outputs": [
    {
     "data": {
      "text/plain": [
       "'PETER'"
      ]
     },
     "execution_count": 126,
     "metadata": {},
     "output_type": "execute_result"
    }
   ],
   "source": [
    "naam.upper()"
   ]
  },
  {
   "cell_type": "code",
   "execution_count": 127,
   "id": "c607d241-bb73-4d0e-a081-04556477a902",
   "metadata": {},
   "outputs": [
    {
     "data": {
      "text/plain": [
       "2"
      ]
     },
     "execution_count": 127,
     "metadata": {},
     "output_type": "execute_result"
    }
   ],
   "source": [
    "naam.count('e')"
   ]
  },
  {
   "cell_type": "code",
   "execution_count": 132,
   "id": "faa4b867-441e-4403-a6c7-bfae133c54e3",
   "metadata": {},
   "outputs": [
    {
     "data": {
      "text/plain": [
       "5"
      ]
     },
     "execution_count": 132,
     "metadata": {},
     "output_type": "execute_result"
    }
   ],
   "source": [
    "s = 'Abracadabra'\n",
    "\n",
    "s.lower().count('a')"
   ]
  },
  {
   "cell_type": "code",
   "execution_count": 133,
   "id": "edc7cdac-5016-4656-9567-bcdf174602ac",
   "metadata": {},
   "outputs": [],
   "source": [
    "tekst = 'de bonte koe is er vandoor'"
   ]
  },
  {
   "cell_type": "code",
   "execution_count": 135,
   "id": "9b613b3e-b097-4d00-937c-ea4ce2f52054",
   "metadata": {},
   "outputs": [],
   "source": [
    "woorden = tekst.split()"
   ]
  },
  {
   "cell_type": "code",
   "execution_count": 136,
   "id": "327cca7c-95ba-4cb4-b45e-c44629ffdd60",
   "metadata": {},
   "outputs": [
    {
     "data": {
      "text/plain": [
       "6"
      ]
     },
     "execution_count": 136,
     "metadata": {},
     "output_type": "execute_result"
    }
   ],
   "source": [
    "len(woorden)"
   ]
  },
  {
   "cell_type": "code",
   "execution_count": 137,
   "id": "fcd5b1a8-a501-4f3b-bf8f-11fee001aabe",
   "metadata": {},
   "outputs": [
    {
     "data": {
      "text/plain": [
       "['de', 'bonte', 'koe', 'is', 'er', 'vandoor']"
      ]
     },
     "execution_count": 137,
     "metadata": {},
     "output_type": "execute_result"
    }
   ],
   "source": [
    "woorden"
   ]
  },
  {
   "cell_type": "code",
   "execution_count": 138,
   "id": "53940c76-5475-4716-ab43-531c3645dd12",
   "metadata": {},
   "outputs": [
    {
     "data": {
      "text/plain": [
       "6"
      ]
     },
     "execution_count": 138,
     "metadata": {},
     "output_type": "execute_result"
    }
   ],
   "source": [
    "woorden.__len__()"
   ]
  },
  {
   "cell_type": "code",
   "execution_count": 140,
   "id": "76bd9dfa-0002-4be5-b387-348d5333d699",
   "metadata": {},
   "outputs": [
    {
     "name": "stdout",
     "output_type": "stream",
     "text": [
      "<class 'list'>\n"
     ]
    }
   ],
   "source": [
    "print(type(woorden))"
   ]
  },
  {
   "cell_type": "code",
   "execution_count": 141,
   "id": "62fc47c2-500d-4bb6-aaf8-d21e05730ec3",
   "metadata": {},
   "outputs": [
    {
     "data": {
      "text/plain": [
       "['__add__',\n",
       " '__class__',\n",
       " '__class_getitem__',\n",
       " '__contains__',\n",
       " '__delattr__',\n",
       " '__delitem__',\n",
       " '__dir__',\n",
       " '__doc__',\n",
       " '__eq__',\n",
       " '__format__',\n",
       " '__ge__',\n",
       " '__getattribute__',\n",
       " '__getitem__',\n",
       " '__getstate__',\n",
       " '__gt__',\n",
       " '__hash__',\n",
       " '__iadd__',\n",
       " '__imul__',\n",
       " '__init__',\n",
       " '__init_subclass__',\n",
       " '__iter__',\n",
       " '__le__',\n",
       " '__len__',\n",
       " '__lt__',\n",
       " '__mul__',\n",
       " '__ne__',\n",
       " '__new__',\n",
       " '__reduce__',\n",
       " '__reduce_ex__',\n",
       " '__repr__',\n",
       " '__reversed__',\n",
       " '__rmul__',\n",
       " '__setattr__',\n",
       " '__setitem__',\n",
       " '__sizeof__',\n",
       " '__str__',\n",
       " '__subclasshook__',\n",
       " 'append',\n",
       " 'clear',\n",
       " 'copy',\n",
       " 'count',\n",
       " 'extend',\n",
       " 'index',\n",
       " 'insert',\n",
       " 'pop',\n",
       " 'remove',\n",
       " 'reverse',\n",
       " 'sort']"
      ]
     },
     "execution_count": 141,
     "metadata": {},
     "output_type": "execute_result"
    }
   ],
   "source": [
    "dir(list)"
   ]
  },
  {
   "cell_type": "code",
   "execution_count": 142,
   "id": "62e5bc61-3cf0-42f0-ab09-0dc78075548c",
   "metadata": {},
   "outputs": [
    {
     "data": {
      "text/plain": [
       "['__add__',\n",
       " '__class__',\n",
       " '__contains__',\n",
       " '__delattr__',\n",
       " '__dir__',\n",
       " '__doc__',\n",
       " '__eq__',\n",
       " '__format__',\n",
       " '__ge__',\n",
       " '__getattribute__',\n",
       " '__getitem__',\n",
       " '__getnewargs__',\n",
       " '__getstate__',\n",
       " '__gt__',\n",
       " '__hash__',\n",
       " '__init__',\n",
       " '__init_subclass__',\n",
       " '__iter__',\n",
       " '__le__',\n",
       " '__len__',\n",
       " '__lt__',\n",
       " '__mod__',\n",
       " '__mul__',\n",
       " '__ne__',\n",
       " '__new__',\n",
       " '__reduce__',\n",
       " '__reduce_ex__',\n",
       " '__repr__',\n",
       " '__rmod__',\n",
       " '__rmul__',\n",
       " '__setattr__',\n",
       " '__sizeof__',\n",
       " '__str__',\n",
       " '__subclasshook__',\n",
       " 'capitalize',\n",
       " 'casefold',\n",
       " 'center',\n",
       " 'count',\n",
       " 'encode',\n",
       " 'endswith',\n",
       " 'expandtabs',\n",
       " 'find',\n",
       " 'format',\n",
       " 'format_map',\n",
       " 'index',\n",
       " 'isalnum',\n",
       " 'isalpha',\n",
       " 'isascii',\n",
       " 'isdecimal',\n",
       " 'isdigit',\n",
       " 'isidentifier',\n",
       " 'islower',\n",
       " 'isnumeric',\n",
       " 'isprintable',\n",
       " 'isspace',\n",
       " 'istitle',\n",
       " 'isupper',\n",
       " 'join',\n",
       " 'ljust',\n",
       " 'lower',\n",
       " 'lstrip',\n",
       " 'maketrans',\n",
       " 'partition',\n",
       " 'removeprefix',\n",
       " 'removesuffix',\n",
       " 'replace',\n",
       " 'rfind',\n",
       " 'rindex',\n",
       " 'rjust',\n",
       " 'rpartition',\n",
       " 'rsplit',\n",
       " 'rstrip',\n",
       " 'split',\n",
       " 'splitlines',\n",
       " 'startswith',\n",
       " 'strip',\n",
       " 'swapcase',\n",
       " 'title',\n",
       " 'translate',\n",
       " 'upper',\n",
       " 'zfill']"
      ]
     },
     "execution_count": 142,
     "metadata": {},
     "output_type": "execute_result"
    }
   ],
   "source": [
    "dir(str)"
   ]
  },
  {
   "cell_type": "code",
   "execution_count": 143,
   "id": "67348f17-3f6c-429f-b0b7-c86b18fab613",
   "metadata": {},
   "outputs": [
    {
     "data": {
      "text/plain": [
       "'de bonte koe is er vandoor'"
      ]
     },
     "execution_count": 143,
     "metadata": {},
     "output_type": "execute_result"
    }
   ],
   "source": [
    "tekst"
   ]
  },
  {
   "cell_type": "code",
   "execution_count": 151,
   "id": "250e02ca-e8bf-41b7-a2b6-d2af0d572c62",
   "metadata": {},
   "outputs": [
    {
     "data": {
      "text/plain": [
       "'d'"
      ]
     },
     "execution_count": 151,
     "metadata": {},
     "output_type": "execute_result"
    }
   ],
   "source": [
    "tekst[-4]"
   ]
  },
  {
   "cell_type": "code",
   "execution_count": 154,
   "id": "b8c04093-0860-45ba-9df1-090ba5cf9c46",
   "metadata": {},
   "outputs": [
    {
     "data": {
      "text/plain": [
       "'koe'"
      ]
     },
     "execution_count": 154,
     "metadata": {},
     "output_type": "execute_result"
    }
   ],
   "source": [
    "tekst[9:12]"
   ]
  },
  {
   "cell_type": "code",
   "execution_count": 177,
   "id": "ad1f933d-4266-4e9f-95da-f9224c640418",
   "metadata": {},
   "outputs": [
    {
     "data": {
      "text/plain": [
       "'koe'"
      ]
     },
     "execution_count": 177,
     "metadata": {},
     "output_type": "execute_result"
    }
   ],
   "source": [
    "woorden[2]"
   ]
  },
  {
   "cell_type": "markdown",
   "id": "fbd5ba22-f5f7-45aa-b37d-59ea45be9468",
   "metadata": {},
   "source": [
    "## Flow statements"
   ]
  },
  {
   "cell_type": "code",
   "execution_count": 178,
   "id": "8d95b5e0-63cb-47b7-82d1-a96b5dca9398",
   "metadata": {},
   "outputs": [
    {
     "name": "stdout",
     "output_type": "stream",
     "text": [
      "dierbare ...\n",
      "Hoe gaat het vandaag?\n"
     ]
    }
   ],
   "source": [
    "gender = 'x'\n",
    "\n",
    "if gender == 'm':\n",
    "    print('de heer ...')\n",
    "\n",
    "elif gender == 'v':\n",
    "    print('mevrouw ...')\n",
    "\n",
    "else:\n",
    "    print('dierbare ...')\n",
    "\n",
    "    print('Hoe gaat het vandaag?')"
   ]
  },
  {
   "cell_type": "code",
   "execution_count": 183,
   "id": "ac069f30-c3d8-4a16-8156-238babba48b4",
   "metadata": {},
   "outputs": [
    {
     "name": "stdout",
     "output_type": "stream",
     "text": [
      "other\n"
     ]
    }
   ],
   "source": [
    "match gender:\n",
    "\n",
    "    case 'm':\n",
    "        print('man')\n",
    "    case 'f' | 'v':\n",
    "        print('woman')\n",
    "    case _:\n",
    "        print('other')"
   ]
  },
  {
   "cell_type": "code",
   "execution_count": 186,
   "id": "551fc851-4a8b-4bd0-8a4c-b9f3eccca1ac",
   "metadata": {},
   "outputs": [
    {
     "ename": "SyntaxError",
     "evalue": "incomplete input (3886239891.py, line 2)",
     "output_type": "error",
     "traceback": [
      "\u001b[0;36m  Cell \u001b[0;32mIn[186], line 2\u001b[0;36m\u001b[0m\n\u001b[0;31m    ';askfdh apsfdha fsdkweh faskwefq askfh ashjdafjhasdf'\u001b[0m\n\u001b[0m                                                          ^\u001b[0m\n\u001b[0;31mSyntaxError\u001b[0m\u001b[0;31m:\u001b[0m incomplete input\n"
     ]
    }
   ],
   "source": [
    "tekst = ('dit is tekst nsdk;vnd;fkja sfd;kjahfs kwafsh' +\n",
    "        ';askfdh apsfdha fsdkweh faskwefq askfh ashjdafjhasdf')"
   ]
  },
  {
   "cell_type": "code",
   "execution_count": 187,
   "id": "64c5c7b2-a1da-42fb-9a1a-9ce5c9e66f07",
   "metadata": {},
   "outputs": [],
   "source": [
    "getallen = [\n",
    "    34222,\n",
    "    45664564,\n",
    "    436545,\n",
    "    567\n",
    "]"
   ]
  },
  {
   "cell_type": "code",
   "execution_count": 188,
   "id": "fd198360-c03c-400a-9d0f-b648975c452b",
   "metadata": {},
   "outputs": [
    {
     "data": {
      "text/plain": [
       "[34222, 45664564, 436545, 567]"
      ]
     },
     "execution_count": 188,
     "metadata": {},
     "output_type": "execute_result"
    }
   ],
   "source": [
    "getallen"
   ]
  },
  {
   "cell_type": "code",
   "execution_count": 2,
   "id": "39db322d-8c22-4031-85f6-fa5855b74d9c",
   "metadata": {},
   "outputs": [
    {
     "name": "stdout",
     "output_type": "stream",
     "text": [
      "1\n",
      "2\n",
      "3\n",
      "4\n",
      "5\n",
      "6\n",
      "7\n",
      "8\n",
      "9\n",
      "10\n"
     ]
    }
   ],
   "source": [
    "teller = 1\n",
    "while teller <= 10:\n",
    "    print(teller)\n",
    "    teller += 1"
   ]
  },
  {
   "cell_type": "code",
   "execution_count": 7,
   "id": "b088ab2a-b19c-483b-bf87-8092194b5498",
   "metadata": {},
   "outputs": [
    {
     "name": "stdout",
     "output_type": "stream",
     "text": [
      "79\n",
      "58\n",
      "79\n",
      "40\n",
      "74\n",
      "28\n",
      "71\n",
      "66\n",
      "19\n",
      "3\n",
      "14\n",
      "68\n",
      "97\n"
     ]
    }
   ],
   "source": [
    "import random\n",
    "\n",
    "while True:\n",
    "    getal = random.randint(1, 100)\n",
    "    print(getal)\n",
    "    if getal > 80:\n",
    "        break"
   ]
  },
  {
   "cell_type": "code",
   "execution_count": 10,
   "id": "1002abd0-2304-4bea-a942-9122bbfbc31a",
   "metadata": {},
   "outputs": [
    {
     "name": "stdout",
     "output_type": "stream",
     "text": [
      "Het getal is 34\n",
      "Het getal is 5678\n",
      "Het getal is 80\n",
      "Het getal is 34\n",
      "Het getal is 577\n",
      "Het getal is 79\n"
     ]
    }
   ],
   "source": [
    "getallen  = [34,5678,80,34,577,79]\n",
    "\n",
    "for getal in getallen:\n",
    "    print(f'Het getal is {getal}')"
   ]
  },
  {
   "cell_type": "code",
   "execution_count": 9,
   "id": "f9ce42e6-953b-4bf6-a40a-bf45146d91e5",
   "metadata": {},
   "outputs": [
    {
     "data": {
      "text/plain": [
       "[34, 5678, 80, 34, 577, 79]"
      ]
     },
     "execution_count": 9,
     "metadata": {},
     "output_type": "execute_result"
    }
   ],
   "source": [
    "getallen"
   ]
  },
  {
   "cell_type": "markdown",
   "id": "d6265eb7-3262-4bed-a9a4-279cf7c42d25",
   "metadata": {},
   "source": [
    "# Opdracht: Geef de tafel van een getal beneden de 10"
   ]
  },
  {
   "cell_type": "code",
   "execution_count": 24,
   "id": "1f7684c8-392f-4d45-8632-ae38c5f8213c",
   "metadata": {},
   "outputs": [
    {
     "name": "stdout",
     "output_type": "stream",
     "text": [
      "  1 keer 9 is   9\n",
      "  2 keer 9 is  18\n",
      "  3 keer 9 is  27\n",
      "  4 keer 9 is  36\n",
      "  5 keer 9 is  45\n",
      "  6 keer 9 is  54\n",
      "  7 keer 9 is  63\n",
      "  8 keer 9 is  72\n",
      "  9 keer 9 is  81\n",
      " 10 keer 9 is  90\n"
     ]
    }
   ],
   "source": [
    "getal = 9\n",
    "\n",
    "for i in range(1, 11):\n",
    "    \n",
    "    print(f'{i:3} keer {getal} is {i * getal:3}')"
   ]
  },
  {
   "cell_type": "code",
   "execution_count": 37,
   "id": "491b3b24-41a4-463f-8ea7-108cf45e212a",
   "metadata": {},
   "outputs": [
    {
     "name": "stdout",
     "output_type": "stream",
     "text": [
      "1 keer 9 is 9\n",
      "2 keer 9 is 18\n",
      "3 keer 9 is 27\n",
      "4 keer 9 is 36\n",
      "5 keer 9 is 45\n",
      "6 keer 9 is 54\n",
      "7 keer 9 is 63\n",
      "8 keer 9 is 72\n",
      "9 keer 9 is 81\n",
      "10 keer 9 is 90\n"
     ]
    }
   ],
   "source": [
    "getal = 9\n",
    "\n",
    "for i in range(1, 11):\n",
    "    \n",
    "    print(f'{i} keer {getal} is {i * getal}')"
   ]
  },
  {
   "cell_type": "code",
   "execution_count": 35,
   "id": "c9ea13c0-b79f-46fd-81c0-3fbaf454f918",
   "metadata": {},
   "outputs": [],
   "source": [
    "r = range(100000000)"
   ]
  },
  {
   "cell_type": "code",
   "execution_count": 33,
   "id": "286fbac2-b982-477f-8eee-c388a4992c30",
   "metadata": {},
   "outputs": [],
   "source": [
    "getallen = list(range(100000000))"
   ]
  },
  {
   "cell_type": "code",
   "execution_count": 36,
   "id": "be49da08-6ca2-4a73-99cd-6a88c4b4b8c4",
   "metadata": {},
   "outputs": [
    {
     "data": {
      "text/plain": [
       "48"
      ]
     },
     "execution_count": 36,
     "metadata": {},
     "output_type": "execute_result"
    }
   ],
   "source": [
    "import sys\n",
    "sys.getsizeof(r)"
   ]
  },
  {
   "cell_type": "code",
   "execution_count": 34,
   "id": "19c688ab-6cbb-4ca7-88ff-a1ad8271ff11",
   "metadata": {},
   "outputs": [
    {
     "data": {
      "text/plain": [
       "800000056"
      ]
     },
     "execution_count": 34,
     "metadata": {},
     "output_type": "execute_result"
    }
   ],
   "source": [
    "sys.getsizeof(getallen)"
   ]
  },
  {
   "cell_type": "code",
   "execution_count": null,
   "id": "576510bd-b80d-4e54-bded-9d6843a9f35d",
   "metadata": {},
   "outputs": [],
   "source": []
  }
 ],
 "metadata": {
  "kernelspec": {
   "display_name": "Python 3 (ipykernel)",
   "language": "python",
   "name": "python3"
  },
  "language_info": {
   "codemirror_mode": {
    "name": "ipython",
    "version": 3
   },
   "file_extension": ".py",
   "mimetype": "text/x-python",
   "name": "python",
   "nbconvert_exporter": "python",
   "pygments_lexer": "ipython3",
   "version": "3.11.9"
  }
 },
 "nbformat": 4,
 "nbformat_minor": 5
}
