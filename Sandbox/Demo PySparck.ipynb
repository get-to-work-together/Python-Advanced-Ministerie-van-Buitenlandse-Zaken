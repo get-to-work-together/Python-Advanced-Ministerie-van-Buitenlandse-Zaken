{
 "cells": [
  {
   "cell_type": "markdown",
   "id": "db8c04a4-1ee9-4b3f-a382-f52c57428c92",
   "metadata": {},
   "source": [
    "# Demo PySpark\n",
    "\n",
    "Examples https://spark.apache.org/examples.html"
   ]
  },
  {
   "cell_type": "code",
   "execution_count": 1,
   "id": "b700e165-3b92-4602-9af1-5d0268eea357",
   "metadata": {},
   "outputs": [],
   "source": [
    "import random\n",
    "from collections import Counter\n",
    "import numpy as np\n",
    "import pandas as pd\n",
    "from pyspark.sql import SparkSession\n",
    "from pyspark.context import SparkContext"
   ]
  },
  {
   "cell_type": "code",
   "execution_count": 2,
   "id": "3dd2bdd7-97bf-459c-92b0-36482990c81e",
   "metadata": {},
   "outputs": [
    {
     "name": "stderr",
     "output_type": "stream",
     "text": [
      "24/11/27 11:06:48 WARN Utils: Your hostname, Peters-MacBook-Pro-2.local resolves to a loopback address: 127.0.0.1; using 10.26.147.174 instead (on interface en0)\n",
      "24/11/27 11:06:48 WARN Utils: Set SPARK_LOCAL_IP if you need to bind to another address\n",
      "Setting default log level to \"WARN\".\n",
      "To adjust logging level use sc.setLogLevel(newLevel). For SparkR, use setLogLevel(newLevel).\n",
      "24/11/27 11:06:49 WARN NativeCodeLoader: Unable to load native-hadoop library for your platform... using builtin-java classes where applicable\n",
      "24/11/27 11:06:49 WARN Utils: Service 'SparkUI' could not bind on port 4040. Attempting port 4041.\n"
     ]
    }
   ],
   "source": [
    "sc = SparkContext('local', 'test')\n",
    "sc.setLogLevel('ERROR')"
   ]
  },
  {
   "cell_type": "code",
   "execution_count": 3,
   "id": "ddc4c218-ed4d-4546-9a60-e6a36be7d118",
   "metadata": {},
   "outputs": [],
   "source": [
    "spark = SparkSession.builder.appName(\"demo\").getOrCreate()"
   ]
  },
  {
   "cell_type": "code",
   "execution_count": 4,
   "id": "0ce49230-fef3-44d1-ba79-81b8b4c93691",
   "metadata": {},
   "outputs": [
    {
     "data": {
      "text/plain": [
       "pyspark.sql.session.SparkSession"
      ]
     },
     "execution_count": 4,
     "metadata": {},
     "output_type": "execute_result"
    }
   ],
   "source": [
    "type(spark)"
   ]
  },
  {
   "cell_type": "code",
   "execution_count": 5,
   "id": "61e5f0af-d6a6-4524-a2c0-3a7c1a87f8b2",
   "metadata": {},
   "outputs": [],
   "source": [
    "df = spark.createDataFrame(\n",
    "    [\n",
    "        (\"sue\", 32),\n",
    "        (\"li\", 3),\n",
    "        (\"bob\", 75),\n",
    "        (\"heo\", 13),\n",
    "    ],\n",
    "    [\"first_name\", \"age\"],\n",
    ")"
   ]
  },
  {
   "cell_type": "code",
   "execution_count": 6,
   "id": "73127164-d7d3-4855-bd48-d235dd0c9bf2",
   "metadata": {},
   "outputs": [
    {
     "name": "stderr",
     "output_type": "stream",
     "text": [
      "                                                                                \r"
     ]
    },
    {
     "name": "stdout",
     "output_type": "stream",
     "text": [
      "+----------+---+\n",
      "|first_name|age|\n",
      "+----------+---+\n",
      "|       sue| 32|\n",
      "|        li|  3|\n",
      "|       bob| 75|\n",
      "|       heo| 13|\n",
      "+----------+---+\n",
      "\n"
     ]
    }
   ],
   "source": [
    "df.show()"
   ]
  },
  {
   "cell_type": "code",
   "execution_count": 7,
   "id": "e46bf0c7-4de8-4463-962e-8df5b53a4117",
   "metadata": {},
   "outputs": [],
   "source": [
    "from pyspark.sql.functions import col, when\n",
    "\n",
    "df1 = df.withColumn(\n",
    "    \"life_stage\",\n",
    "    when(col(\"age\") < 13, \"child\")\n",
    "    .when(col(\"age\").between(13, 19), \"teenager\")\n",
    "    .otherwise(\"adult\"),\n",
    ")"
   ]
  },
  {
   "cell_type": "code",
   "execution_count": 8,
   "id": "567cfd49-eac6-4e6e-a20c-985913293285",
   "metadata": {},
   "outputs": [
    {
     "name": "stdout",
     "output_type": "stream",
     "text": [
      "+----------+---+----------+\n",
      "|first_name|age|life_stage|\n",
      "+----------+---+----------+\n",
      "|       sue| 32|     adult|\n",
      "|        li|  3|     child|\n",
      "|       bob| 75|     adult|\n",
      "|       heo| 13|  teenager|\n",
      "+----------+---+----------+\n",
      "\n"
     ]
    }
   ],
   "source": [
    "df1.show()"
   ]
  },
  {
   "cell_type": "code",
   "execution_count": 9,
   "id": "3c74df51-c694-493c-a77d-d1600143be0a",
   "metadata": {},
   "outputs": [
    {
     "name": "stdout",
     "output_type": "stream",
     "text": [
      "+----------+---+----------+\n",
      "|first_name|age|life_stage|\n",
      "+----------+---+----------+\n",
      "|       sue| 32|     adult|\n",
      "|       bob| 75|     adult|\n",
      "|       heo| 13|  teenager|\n",
      "+----------+---+----------+\n",
      "\n"
     ]
    }
   ],
   "source": [
    "df1.where(col(\"life_stage\").isin([\"teenager\", \"adult\"])).show()"
   ]
  },
  {
   "cell_type": "code",
   "execution_count": 10,
   "id": "0a13c64e-1adc-4a60-b1fd-f303bdc1beea",
   "metadata": {},
   "outputs": [
    {
     "name": "stdout",
     "output_type": "stream",
     "text": [
      "+--------+\n",
      "|avg(age)|\n",
      "+--------+\n",
      "|   30.75|\n",
      "+--------+\n",
      "\n"
     ]
    }
   ],
   "source": [
    "from pyspark.sql.functions import avg\n",
    "\n",
    "df1.select(avg(\"age\")).show()"
   ]
  },
  {
   "cell_type": "code",
   "execution_count": 11,
   "id": "d03833e8-8754-4022-8e45-a14d63a2e04a",
   "metadata": {},
   "outputs": [
    {
     "name": "stdout",
     "output_type": "stream",
     "text": [
      "+----------+--------+\n",
      "|life_stage|avg(age)|\n",
      "+----------+--------+\n",
      "|     adult|    53.5|\n",
      "|  teenager|    13.0|\n",
      "|     child|     3.0|\n",
      "+----------+--------+\n",
      "\n"
     ]
    }
   ],
   "source": [
    "df1.groupBy(\"life_stage\").avg().show()"
   ]
  },
  {
   "cell_type": "markdown",
   "id": "bd9fefc5-bea6-4dfd-a5f3-809bd8dab878",
   "metadata": {},
   "source": [
    "### https://spark.apache.org/docs/latest/api/python/reference/pyspark.sql/dataframe.html"
   ]
  },
  {
   "cell_type": "code",
   "execution_count": 12,
   "id": "0fc26d53-0ffb-4cd8-97af-42c15e425d5a",
   "metadata": {},
   "outputs": [
    {
     "data": {
      "text/plain": [
       "['age', 'name', 'state']"
      ]
     },
     "execution_count": 12,
     "metadata": {},
     "output_type": "execute_result"
    }
   ],
   "source": [
    "df = spark.createDataFrame(\n",
    "    [(14, \"Tom\", \"CA\"), \n",
    "     (23, \"Alice\", \"NY\"), \n",
    "     (16, \"Bob\", \"TX\")],\n",
    "    [\"age\", \"name\", \"state\"]\n",
    ")\n",
    "df.columns"
   ]
  },
  {
   "cell_type": "code",
   "execution_count": 13,
   "id": "7b724541-bdc9-4523-97af-f1a18ebe3dcd",
   "metadata": {},
   "outputs": [
    {
     "name": "stdout",
     "output_type": "stream",
     "text": [
      "+---+-----+-----+\n",
      "|age| name|state|\n",
      "+---+-----+-----+\n",
      "| 14|  Tom|   CA|\n",
      "| 23|Alice|   NY|\n",
      "| 16|  Bob|   TX|\n",
      "+---+-----+-----+\n",
      "\n"
     ]
    }
   ],
   "source": [
    "df.show()"
   ]
  },
  {
   "cell_type": "code",
   "execution_count": 14,
   "id": "67508993-d606-4ce2-b04e-ce8011781d65",
   "metadata": {},
   "outputs": [
    {
     "name": "stdout",
     "output_type": "stream",
     "text": [
      "+-----+-----+\n",
      "| name|state|\n",
      "+-----+-----+\n",
      "|  Tom|   CA|\n",
      "|Alice|   NY|\n",
      "|  Bob|   TX|\n",
      "+-----+-----+\n",
      "\n"
     ]
    }
   ],
   "source": [
    "selected_cols = [col for col in df.columns if col != \"age\"]\n",
    "df.select(selected_cols).show()"
   ]
  },
  {
   "cell_type": "code",
   "execution_count": 15,
   "id": "af86aeb5-f9f3-4fd3-b308-cf7c083e397e",
   "metadata": {},
   "outputs": [],
   "source": [
    "from pyspark.sql import Row\n",
    "from pyspark.sql.functions import desc\n",
    "df = spark.createDataFrame([(2, \"Alice\"), (5, \"Bob\")]).toDF(\"age\", \"name\")\n",
    "df2 = spark.createDataFrame([Row(height=80, name=\"Tom\"), Row(height=85, name=\"Bob\")])\n",
    "df3 = spark.createDataFrame([Row(age=2, name=\"Alice\"), Row(age=5, name=\"Bob\")])\n",
    "df4 = spark.createDataFrame([\n",
    "    Row(age=10, height=80, name=\"Alice\"),\n",
    "    Row(age=5, height=None, name=\"Bob\"),\n",
    "    Row(age=None, height=None, name=\"Tom\"),\n",
    "    Row(age=None, height=None, name=None),\n",
    "])"
   ]
  },
  {
   "cell_type": "code",
   "execution_count": 16,
   "id": "bbd9ef04-3fda-4569-a3ce-9d339e36cc15",
   "metadata": {},
   "outputs": [
    {
     "name": "stdout",
     "output_type": "stream",
     "text": [
      "+---+-----+\n",
      "|age| name|\n",
      "+---+-----+\n",
      "|  2|Alice|\n",
      "|  5|  Bob|\n",
      "+---+-----+\n",
      "\n"
     ]
    }
   ],
   "source": [
    "df3.show()"
   ]
  },
  {
   "cell_type": "code",
   "execution_count": 17,
   "id": "10362061-2053-4881-a0e3-fc336e98a98e",
   "metadata": {},
   "outputs": [
    {
     "name": "stdout",
     "output_type": "stream",
     "text": [
      "+----+---+------+\n",
      "|name|age|height|\n",
      "+----+---+------+\n",
      "| Bob|  5|    85|\n",
      "+----+---+------+\n",
      "\n"
     ]
    }
   ],
   "source": [
    "df.join(df2, 'name').select(df.name, df.age, df2.height).show()"
   ]
  },
  {
   "cell_type": "code",
   "execution_count": 18,
   "id": "e15f8c3d-d71f-4ab1-8651-4f416a31b20e",
   "metadata": {},
   "outputs": [
    {
     "name": "stdout",
     "output_type": "stream",
     "text": [
      "+-----+------+\n",
      "| name|height|\n",
      "+-----+------+\n",
      "|  Bob|    85|\n",
      "|Alice|  NULL|\n",
      "| NULL|    80|\n",
      "+-----+------+\n",
      "\n"
     ]
    }
   ],
   "source": [
    "df.join(df2, df.name == df2.name, 'outer').select(df.name, df2.height).sort(desc(\"name\")).show()"
   ]
  },
  {
   "cell_type": "code",
   "execution_count": 19,
   "id": "031d8cfd-6a71-4c1f-bcb9-46983a122fce",
   "metadata": {},
   "outputs": [
    {
     "name": "stdout",
     "output_type": "stream",
     "text": [
      "+-----+---+\n",
      "| name|age|\n",
      "+-----+---+\n",
      "|Alice|  2|\n",
      "|  Bob|  5|\n",
      "+-----+---+\n",
      "\n"
     ]
    }
   ],
   "source": [
    "df.join( df3,\n",
    "        [df.name == df3.name, df.age == df3.age],\n",
    "        'outer'\n",
    ").select(df.name, df3.age).show()"
   ]
  },
  {
   "cell_type": "code",
   "execution_count": 20,
   "id": "309f80c5-cf19-4a65-b27e-9d0a8ee87f11",
   "metadata": {},
   "outputs": [],
   "source": [
    "from pyspark.sql import DataFrameReader"
   ]
  },
  {
   "cell_type": "code",
   "execution_count": 21,
   "id": "983f3035-c366-4e2d-98d7-d1075784a965",
   "metadata": {},
   "outputs": [
    {
     "name": "stdout",
     "output_type": "stream",
     "text": [
      "+----------+-------------+-------------+\n",
      "|first_name|    last_name|         city|\n",
      "+----------+-------------+-------------+\n",
      "| Francoise|Rautenstrauch|      Windsor|\n",
      "|    Kendra|         Loud|       Alcida|\n",
      "|   Lourdes|     Bauswell|   Belleville|\n",
      "|    Hannah|      Edmison|    Vancouver|\n",
      "|       Tom|        Loeza|  LIle-Perrot|\n",
      "|   Queenie|   Kramarczyk|Swift Current|\n",
      "|       Hui|      Portaro|  Baker Brook|\n",
      "|    Josefa|        Opitz|        Delhi|\n",
      "|       Lea|    Steinhaus|     Bradford|\n",
      "|     Paola|       Vielma|       Aurora|\n",
      "| Hortencia|      Bresser|New Waterford|\n",
      "|    Leanna|     Tijerina|   North York|\n",
      "|    Danilo|        Pride|     Red Deer|\n",
      "|      Huey|     Marcille|     Edmonton|\n",
      "|  Apolonia|        Warne|  Fredericton|\n",
      "|   Chandra|        Lagos|    Etobicoke|\n",
      "|    Crissy|     Pacholec|       Barrie|\n",
      "|    Gianna|       Branin|      Calgary|\n",
      "|  Valentin|        Billa|      Pangman|\n",
      "|     Ilona|       Dudash|Rouyn-Noranda|\n",
      "+----------+-------------+-------------+\n",
      "only showing top 20 rows\n",
      "\n"
     ]
    }
   ],
   "source": [
    "filename = 'ca-500.csv'\n",
    "df = spark.read.csv(filename, sep=';', header=True)\n",
    "df.select(['first_name', 'last_name', 'city']).show()"
   ]
  },
  {
   "cell_type": "markdown",
   "id": "2a7d0ccb-c315-445c-ad7c-ded96467b631",
   "metadata": {},
   "source": [
    "## Count words"
   ]
  },
  {
   "cell_type": "code",
   "execution_count": 7,
   "id": "05ae1534-353e-45bd-823a-56a605078d50",
   "metadata": {},
   "outputs": [],
   "source": [
    "filename = 'basiswoorden-gekeurd.txt'\n",
    "df = pd.read_csv(filename, names=['words'])"
   ]
  },
  {
   "cell_type": "code",
   "execution_count": 8,
   "id": "83ef6ad4-279c-4bd1-b8e2-d34c5f3f246d",
   "metadata": {},
   "outputs": [],
   "source": [
    "words = list(df['words'].values)"
   ]
  },
  {
   "cell_type": "code",
   "execution_count": 9,
   "id": "a84990a0-c906-4779-a91e-f8f5ee24af3d",
   "metadata": {},
   "outputs": [
    {
     "data": {
      "text/plain": [
       "199403"
      ]
     },
     "execution_count": 9,
     "metadata": {},
     "output_type": "execute_result"
    }
   ],
   "source": [
    "len(words)"
   ]
  },
  {
   "cell_type": "code",
   "execution_count": 12,
   "id": "e69d3c55-da50-458f-ad75-5a76f80debeb",
   "metadata": {},
   "outputs": [
    {
     "data": {
      "text/plain": [
       "['cacaohaven',\n",
       " 'afstoppen',\n",
       " 'maniak',\n",
       " 'afmeten',\n",
       " 'vreemdelingendetentie',\n",
       " 'spuitomruil',\n",
       " 'herpositioneren',\n",
       " 'dossiermanager',\n",
       " 'ongeborene',\n",
       " 'terrasscheiding']"
      ]
     },
     "execution_count": 12,
     "metadata": {},
     "output_type": "execute_result"
    }
   ],
   "source": [
    "random.sample(words, k=10)"
   ]
  },
  {
   "cell_type": "code",
   "execution_count": 13,
   "id": "d641a1e1-af2c-46f6-8abd-3a415b115e1b",
   "metadata": {},
   "outputs": [],
   "source": [
    "sample_words = random.sample(words, k=50000)\n",
    "selected_words = random.choices(sample_words, k=100000)"
   ]
  },
  {
   "cell_type": "code",
   "execution_count": 14,
   "id": "b588c06b-903b-497d-987e-acbd1cdaa1c9",
   "metadata": {},
   "outputs": [
    {
     "data": {
      "text/plain": [
       "100000"
      ]
     },
     "execution_count": 14,
     "metadata": {},
     "output_type": "execute_result"
    }
   ],
   "source": [
    "len(selected_words)"
   ]
  },
  {
   "cell_type": "code",
   "execution_count": 15,
   "id": "d3b3ceaa-9752-4de7-8fce-944c13c4fe4e",
   "metadata": {},
   "outputs": [
    {
     "data": {
      "text/plain": [
       "['stroomversnelling',\n",
       " 'weeroverzicht',\n",
       " 'kol nidrei',\n",
       " 'comedyreeks',\n",
       " 'wegsnijden',\n",
       " 'formatieoverleg',\n",
       " 'kostenheffing',\n",
       " 'dressman',\n",
       " 'onintuïtief',\n",
       " 'grootspraak']"
      ]
     },
     "execution_count": 15,
     "metadata": {},
     "output_type": "execute_result"
    }
   ],
   "source": [
    "selected_words[:10]"
   ]
  },
  {
   "cell_type": "markdown",
   "id": "31ef2e29-ef52-44dd-8a1b-edba7d6dfda0",
   "metadata": {},
   "source": [
    "### Python dict using count method"
   ]
  },
  {
   "cell_type": "code",
   "execution_count": 30,
   "id": "22b753f5-45cd-4047-8c60-0c7786a6197b",
   "metadata": {},
   "outputs": [
    {
     "name": "stdout",
     "output_type": "stream",
     "text": [
      "CPU times: user 40.9 s, sys: 93.2 ms, total: 41 s\n",
      "Wall time: 41 s\n"
     ]
    }
   ],
   "source": [
    "%%time\n",
    "counts = {}\n",
    "for word in set(selected_words):\n",
    "    counts[word] = selected_words.count(word)"
   ]
  },
  {
   "cell_type": "code",
   "execution_count": 255,
   "id": "0815623c-30c9-4e4c-a439-b295de5d0be2",
   "metadata": {},
   "outputs": [
    {
     "data": {
      "text/plain": [
       "43199"
      ]
     },
     "execution_count": 255,
     "metadata": {},
     "output_type": "execute_result"
    }
   ],
   "source": [
    "len(counts)"
   ]
  },
  {
   "cell_type": "code",
   "execution_count": 256,
   "id": "b1d8ce94-726d-4c08-bffd-25c148bc6533",
   "metadata": {},
   "outputs": [
    {
     "data": {
      "text/plain": [
       "[('meson', 1),\n",
       " ('Statenvergadering', 2),\n",
       " ('volksgezondheidsbeleid', 1),\n",
       " ('openluchtmissen', 3),\n",
       " ('kweekconditie', 4),\n",
       " ('ticketshop', 2),\n",
       " ('personeelsaankoop', 1),\n",
       " ('dakplaat', 2),\n",
       " ('bambino', 1),\n",
       " ('zondagochtendnieuwsbrief', 5)]"
      ]
     },
     "execution_count": 256,
     "metadata": {},
     "output_type": "execute_result"
    }
   ],
   "source": [
    "list(counts.items())[:10]"
   ]
  },
  {
   "cell_type": "markdown",
   "id": "a1aaff43-b8ee-4140-a901-1216c3b22615",
   "metadata": {},
   "source": [
    "### Python dict using running totals"
   ]
  },
  {
   "cell_type": "code",
   "execution_count": 16,
   "id": "98c49cdb-0c94-47cf-b605-17676284ceaa",
   "metadata": {},
   "outputs": [
    {
     "name": "stdout",
     "output_type": "stream",
     "text": [
      "CPU times: user 32.5 ms, sys: 3.15 ms, total: 35.6 ms\n",
      "Wall time: 34.3 ms\n"
     ]
    }
   ],
   "source": [
    "%%time\n",
    "counts = {}\n",
    "for word in selected_words:\n",
    "    counts[word] = counts.get(word, 0) + 1"
   ]
  },
  {
   "cell_type": "code",
   "execution_count": 17,
   "id": "12674085-a30d-47ba-b9ca-a663e1363bb3",
   "metadata": {},
   "outputs": [
    {
     "data": {
      "text/plain": [
       "dict"
      ]
     },
     "execution_count": 17,
     "metadata": {},
     "output_type": "execute_result"
    }
   ],
   "source": [
    "type(counts)"
   ]
  },
  {
   "cell_type": "code",
   "execution_count": 18,
   "id": "459385d2-5828-4e3d-9c77-457a1bd1e540",
   "metadata": {},
   "outputs": [
    {
     "data": {
      "text/plain": [
       "43153"
      ]
     },
     "execution_count": 18,
     "metadata": {},
     "output_type": "execute_result"
    }
   ],
   "source": [
    "len(counts)"
   ]
  },
  {
   "cell_type": "code",
   "execution_count": 19,
   "id": "ac495091-3d90-41d8-b17c-e029a96ec531",
   "metadata": {},
   "outputs": [
    {
     "data": {
      "text/plain": [
       "[('stroomversnelling', 2),\n",
       " ('weeroverzicht', 2),\n",
       " ('kol nidrei', 4),\n",
       " ('comedyreeks', 4),\n",
       " ('wegsnijden', 6),\n",
       " ('formatieoverleg', 1),\n",
       " ('kostenheffing', 1),\n",
       " ('dressman', 5),\n",
       " ('onintuïtief', 2),\n",
       " ('grootspraak', 2)]"
      ]
     },
     "execution_count": 19,
     "metadata": {},
     "output_type": "execute_result"
    }
   ],
   "source": [
    "list(counts.items())[:10]"
   ]
  },
  {
   "cell_type": "markdown",
   "id": "37337059-d5a5-44f0-a7fc-e2bc7695d127",
   "metadata": {},
   "source": [
    "### Python using collections.Counter"
   ]
  },
  {
   "cell_type": "code",
   "execution_count": 20,
   "id": "547ca701-568f-48a3-8d89-8bb9b058752a",
   "metadata": {},
   "outputs": [
    {
     "name": "stdout",
     "output_type": "stream",
     "text": [
      "CPU times: user 23 ms, sys: 3.84 ms, total: 26.8 ms\n",
      "Wall time: 37.8 ms\n"
     ]
    }
   ],
   "source": [
    "%%time\n",
    "counts = Counter(selected_words)"
   ]
  },
  {
   "cell_type": "code",
   "execution_count": 36,
   "id": "b7b87053-1dd4-4da3-a7ed-1a9d29ec5998",
   "metadata": {},
   "outputs": [
    {
     "data": {
      "text/plain": [
       "collections.Counter"
      ]
     },
     "execution_count": 36,
     "metadata": {},
     "output_type": "execute_result"
    }
   ],
   "source": [
    "type(counts)"
   ]
  },
  {
   "cell_type": "code",
   "execution_count": 37,
   "id": "daca2d00-4725-4ff8-9d42-92a648583f5d",
   "metadata": {},
   "outputs": [
    {
     "data": {
      "text/plain": [
       "43239"
      ]
     },
     "execution_count": 37,
     "metadata": {},
     "output_type": "execute_result"
    }
   ],
   "source": [
    "len(counts)"
   ]
  },
  {
   "cell_type": "code",
   "execution_count": 38,
   "id": "106c7a53-f0e5-44c6-9e24-463570aa9451",
   "metadata": {},
   "outputs": [
    {
     "data": {
      "text/plain": [
       "[('vulpasta', 3),\n",
       " ('rijgschoen', 8),\n",
       " ('aalkuip', 2),\n",
       " ('introductiekoers', 3),\n",
       " ('behandeladvies', 1),\n",
       " ('weekoverzicht', 3),\n",
       " ('mee-eten', 2),\n",
       " ('vroeggeboren', 2),\n",
       " ('verkoeling', 4),\n",
       " ('terpostbezorging', 5)]"
      ]
     },
     "execution_count": 38,
     "metadata": {},
     "output_type": "execute_result"
    }
   ],
   "source": [
    "list(counts.items())[:10]"
   ]
  },
  {
   "cell_type": "markdown",
   "id": "ee86cba0-8996-47b8-9f3f-4c3275e3370b",
   "metadata": {},
   "source": [
    "### Pandas using value_counts"
   ]
  },
  {
   "cell_type": "code",
   "execution_count": 21,
   "id": "c17d2e09-9af4-430d-86b9-e0912bd9839f",
   "metadata": {},
   "outputs": [],
   "source": [
    "df_selected_words = pd.DataFrame({'words': selected_words})"
   ]
  },
  {
   "cell_type": "code",
   "execution_count": 22,
   "id": "08f292f6-7e6b-4999-8af7-255f273f0767",
   "metadata": {},
   "outputs": [
    {
     "name": "stdout",
     "output_type": "stream",
     "text": [
      "CPU times: user 30.5 ms, sys: 1.39 ms, total: 31.9 ms\n",
      "Wall time: 32 ms\n"
     ]
    }
   ],
   "source": [
    "%%time\n",
    "counts = df_selected_words['words'].value_counts(sort=False)"
   ]
  },
  {
   "cell_type": "code",
   "execution_count": 23,
   "id": "bfbc65f1-9b50-49f3-98f5-af728d62ea9a",
   "metadata": {},
   "outputs": [
    {
     "data": {
      "text/plain": [
       "pandas.core.series.Series"
      ]
     },
     "execution_count": 23,
     "metadata": {},
     "output_type": "execute_result"
    }
   ],
   "source": [
    "type(counts)"
   ]
  },
  {
   "cell_type": "code",
   "execution_count": 24,
   "id": "a6ced79d-f9dc-486c-a081-626e42cec139",
   "metadata": {},
   "outputs": [
    {
     "data": {
      "text/plain": [
       "43153"
      ]
     },
     "execution_count": 24,
     "metadata": {},
     "output_type": "execute_result"
    }
   ],
   "source": [
    "len(counts)"
   ]
  },
  {
   "cell_type": "code",
   "execution_count": 26,
   "id": "dfd7cd2d-9fd6-44cc-bcae-4217f611f8eb",
   "metadata": {},
   "outputs": [
    {
     "data": {
      "text/plain": [
       "words\n",
       "stroomversnelling    2\n",
       "weeroverzicht        2\n",
       "kol nidrei           4\n",
       "comedyreeks          4\n",
       "wegsnijden           6\n",
       "formatieoverleg      1\n",
       "kostenheffing        1\n",
       "dressman             5\n",
       "onintuïtief          2\n",
       "grootspraak          2\n",
       "Name: count, dtype: int64"
      ]
     },
     "execution_count": 26,
     "metadata": {},
     "output_type": "execute_result"
    }
   ],
   "source": [
    "counts.head(10)"
   ]
  },
  {
   "cell_type": "markdown",
   "id": "2b1f8505-528a-4e6e-8049-a1561a324f03",
   "metadata": {},
   "source": [
    "### PySpark"
   ]
  },
  {
   "cell_type": "code",
   "execution_count": 27,
   "id": "d54b4c1e-4a11-4f3c-acc0-ec4cd3fa0859",
   "metadata": {},
   "outputs": [],
   "source": [
    "df_spark = spark.createDataFrame(df_selected_words)"
   ]
  },
  {
   "cell_type": "code",
   "execution_count": 28,
   "id": "4171646e-b5e5-4c9f-98b1-382597c74599",
   "metadata": {},
   "outputs": [
    {
     "data": {
      "text/plain": [
       "pyspark.sql.dataframe.DataFrame"
      ]
     },
     "execution_count": 28,
     "metadata": {},
     "output_type": "execute_result"
    }
   ],
   "source": [
    "type(df_spark)"
   ]
  },
  {
   "cell_type": "code",
   "execution_count": 29,
   "id": "e87e8f73-de3d-4012-ae72-6c6c148e270e",
   "metadata": {},
   "outputs": [
    {
     "name": "stdout",
     "output_type": "stream",
     "text": [
      "CPU times: user 2.04 ms, sys: 3.11 ms, total: 5.15 ms\n",
      "Wall time: 54 ms\n"
     ]
    }
   ],
   "source": [
    "%%time\n",
    "counts = df_spark.groupBy('words').count()"
   ]
  },
  {
   "cell_type": "code",
   "execution_count": 47,
   "id": "c4c407c5-1407-487a-81c9-72a0191a9b4f",
   "metadata": {},
   "outputs": [
    {
     "data": {
      "text/plain": [
       "pyspark.sql.dataframe.DataFrame"
      ]
     },
     "execution_count": 47,
     "metadata": {},
     "output_type": "execute_result"
    }
   ],
   "source": [
    "type(counts)"
   ]
  },
  {
   "cell_type": "code",
   "execution_count": 48,
   "id": "ef9ecd30-399d-438b-abfb-47aba863706f",
   "metadata": {},
   "outputs": [
    {
     "data": {
      "text/plain": [
       "43239"
      ]
     },
     "execution_count": 48,
     "metadata": {},
     "output_type": "execute_result"
    }
   ],
   "source": [
    "counts.count()"
   ]
  },
  {
   "cell_type": "code",
   "execution_count": 50,
   "id": "6f6b026c-2df1-4f9b-aed3-b8190f394331",
   "metadata": {},
   "outputs": [
    {
     "name": "stdout",
     "output_type": "stream",
     "text": [
      "+------------------+-----+\n",
      "|             words|count|\n",
      "+------------------+-----+\n",
      "|kredietkaartnummer|    4|\n",
      "|         koopavond|    2|\n",
      "|         weckketel|    2|\n",
      "|          balklaag|    1|\n",
      "|         inkerving|    3|\n",
      "|        in gebreke|    1|\n",
      "|        NAVO-zijde|    1|\n",
      "|         bleekneus|    1|\n",
      "|   expeditieknecht|    2|\n",
      "|   landbouwfunctie|    3|\n",
      "+------------------+-----+\n",
      "\n"
     ]
    }
   ],
   "source": [
    "counts.limit(10).show()"
   ]
  },
  {
   "cell_type": "code",
   "execution_count": null,
   "id": "8955be40-a956-4056-b76e-ded9e1d558f4",
   "metadata": {},
   "outputs": [],
   "source": []
  }
 ],
 "metadata": {
  "kernelspec": {
   "display_name": "Python 3 (ipykernel)",
   "language": "python",
   "name": "python3"
  },
  "language_info": {
   "codemirror_mode": {
    "name": "ipython",
    "version": 3
   },
   "file_extension": ".py",
   "mimetype": "text/x-python",
   "name": "python",
   "nbconvert_exporter": "python",
   "pygments_lexer": "ipython3",
   "version": "3.12.7"
  }
 },
 "nbformat": 4,
 "nbformat_minor": 5
}
