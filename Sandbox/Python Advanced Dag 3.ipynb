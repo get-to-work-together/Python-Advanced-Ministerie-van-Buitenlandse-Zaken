{
 "cells": [
  {
   "cell_type": "markdown",
   "id": "0211abfe-2851-4549-8dbf-eeae49e4824f",
   "metadata": {},
   "source": [
    "# Python Advanced - Dag 3"
   ]
  },
  {
   "cell_type": "markdown",
   "id": "ae30c30e-b86a-41da-933c-f473cba6574d",
   "metadata": {},
   "source": [
    "### OO"
   ]
  },
  {
   "cell_type": "code",
   "execution_count": 99,
   "id": "68840ebc-6172-428f-8c9e-7db3544af048",
   "metadata": {},
   "outputs": [],
   "source": [
    "class Person:\n",
    "\n",
    "    # Initiatisatie van Attributes\n",
    "    def __init__(self, name, residence = 'Ergens'):\n",
    "        self.name = name\n",
    "        self.residence = residence\n",
    "\n",
    "    # special methods\n",
    "    def __repr__(self):\n",
    "        return f'Person(\"{self.name}\", \"{self.residence}\")'\n",
    "\n",
    "    def __str__(self):\n",
    "        return f'Person: {self.name} - {self.residence}'\n",
    "\n",
    "    # methods\n",
    "    def tell(self):\n",
    "        return f'Ik ben {self.name} en ik woon in {self.residence}.'\n",
    "\n",
    "    def move(self, new_residence):\n",
    "        self.residence = new_residence\n",
    "        return self"
   ]
  },
  {
   "cell_type": "code",
   "execution_count": 100,
   "id": "4033eda1-3710-4a26-b7f2-bfbe546c92e0",
   "metadata": {},
   "outputs": [],
   "source": [
    "# Instantiation\n",
    "person = Person('Peter')"
   ]
  },
  {
   "cell_type": "code",
   "execution_count": 101,
   "id": "11ea5dde-16ae-42b2-928b-b5c4b2a16d08",
   "metadata": {},
   "outputs": [
    {
     "name": "stdout",
     "output_type": "stream",
     "text": [
      "<class '__main__.Person'>\n"
     ]
    }
   ],
   "source": [
    "print(type(person))"
   ]
  },
  {
   "cell_type": "code",
   "execution_count": 102,
   "id": "2e60370f-00af-483f-b9eb-1fec3e5d6031",
   "metadata": {},
   "outputs": [
    {
     "data": {
      "text/plain": [
       "'Peter'"
      ]
     },
     "execution_count": 102,
     "metadata": {},
     "output_type": "execute_result"
    }
   ],
   "source": [
    "person.name"
   ]
  },
  {
   "cell_type": "code",
   "execution_count": 103,
   "id": "b562406e-10a8-4219-86c1-d1524e2198f5",
   "metadata": {},
   "outputs": [
    {
     "data": {
      "text/plain": [
       "'Ergens'"
      ]
     },
     "execution_count": 103,
     "metadata": {},
     "output_type": "execute_result"
    }
   ],
   "source": [
    "person.residence"
   ]
  },
  {
   "cell_type": "code",
   "execution_count": 104,
   "id": "f90f9192-27a0-40bd-b918-738d09aa43e0",
   "metadata": {},
   "outputs": [
    {
     "data": {
      "text/plain": [
       "'Ik ben Peter en ik woon in Ergens.'"
      ]
     },
     "execution_count": 104,
     "metadata": {},
     "output_type": "execute_result"
    }
   ],
   "source": [
    "person.tell()"
   ]
  },
  {
   "cell_type": "code",
   "execution_count": 105,
   "id": "884fecd9-fbf2-4c18-852a-7d3f8d75afa6",
   "metadata": {},
   "outputs": [
    {
     "data": {
      "text/plain": [
       "Person(\"Peter\", \"Den Haag\")"
      ]
     },
     "execution_count": 105,
     "metadata": {},
     "output_type": "execute_result"
    }
   ],
   "source": [
    "person.move('Den Haag')"
   ]
  },
  {
   "cell_type": "code",
   "execution_count": 106,
   "id": "ea19b4c9-48ff-429e-8970-f8ceeeddf38e",
   "metadata": {},
   "outputs": [
    {
     "data": {
      "text/plain": [
       "'Ik ben Peter en ik woon in Den Haag.'"
      ]
     },
     "execution_count": 106,
     "metadata": {},
     "output_type": "execute_result"
    }
   ],
   "source": [
    "person.tell()"
   ]
  },
  {
   "cell_type": "code",
   "execution_count": 107,
   "id": "fb2335d9-7a62-42c8-b7c3-f1b04266239c",
   "metadata": {},
   "outputs": [
    {
     "data": {
      "text/plain": [
       "'Ik ben Peter en ik woon in Den Haag.'"
      ]
     },
     "execution_count": 107,
     "metadata": {},
     "output_type": "execute_result"
    }
   ],
   "source": [
    "Person.tell(person)"
   ]
  },
  {
   "cell_type": "code",
   "execution_count": 108,
   "id": "b15da786-50a7-48ff-9d0f-c8876a5929e4",
   "metadata": {},
   "outputs": [
    {
     "data": {
      "text/plain": [
       "Person(\"Peter\", \"Den Haag\")"
      ]
     },
     "execution_count": 108,
     "metadata": {},
     "output_type": "execute_result"
    }
   ],
   "source": [
    "person"
   ]
  },
  {
   "cell_type": "code",
   "execution_count": 109,
   "id": "eb776b07-7dcc-4bb2-ba16-f11598623929",
   "metadata": {},
   "outputs": [
    {
     "name": "stdout",
     "output_type": "stream",
     "text": [
      "Person: Peter - Den Haag\n"
     ]
    }
   ],
   "source": [
    "print(person)"
   ]
  },
  {
   "cell_type": "code",
   "execution_count": 110,
   "id": "fdcbc627-c41c-4d8b-bd64-1606ce6135f0",
   "metadata": {},
   "outputs": [
    {
     "name": "stdout",
     "output_type": "stream",
     "text": [
      "Person: Peter - Den Haag\n",
      "Person(\"Peter\", \"Den Haag\")\n"
     ]
    }
   ],
   "source": [
    "print(str(person))\n",
    "print(repr(person))"
   ]
  },
  {
   "cell_type": "code",
   "execution_count": 115,
   "id": "b1b6a653-5abb-4387-bf18-87b05d39d57c",
   "metadata": {},
   "outputs": [
    {
     "name": "stdout",
     "output_type": "stream",
     "text": [
      "['IK', 'BEN', 'PETER', 'EN', 'IK', 'WOON', 'IN', 'DELFT.']\n"
     ]
    }
   ],
   "source": [
    "print( person.move('Delft').tell().upper().split() )"
   ]
  },
  {
   "cell_type": "markdown",
   "id": "cf3126e4-10d8-4c5e-ae44-c1ad36489e9a",
   "metadata": {},
   "source": [
    "### BankAccount class"
   ]
  },
  {
   "cell_type": "code",
   "execution_count": 135,
   "id": "c7a69e92-9896-4243-a028-adc9dd7eb02a",
   "metadata": {},
   "outputs": [],
   "source": [
    "class BankAccount:\n",
    "\n",
    "    def __init__(self, account_number: str, holder: str, *, balance: int|float = 0.0):\n",
    "        self._account_number = account_number\n",
    "        self._holder = holder\n",
    "        self._balance = balance\n",
    "\n",
    "    def deposit(self, amount):\n",
    "        self._balance += amount\n",
    "        return self\n",
    "        \n",
    "    def withdraw(self, amount):\n",
    "        self._balance -= amount\n",
    "        return self\n",
    "\n",
    "    def info(self):\n",
    "        return f'Account {self._account_number} belongs to {self._holder} has a balance of {self._balance}'"
   ]
  },
  {
   "cell_type": "code",
   "execution_count": 136,
   "id": "b4f571ce-73cf-45e1-82e8-e0f0615e35f2",
   "metadata": {},
   "outputs": [
    {
     "name": "stdout",
     "output_type": "stream",
     "text": [
      "Account NL99ABCD0123487654 belongs to Peter has a balance of 100\n",
      "Account NL99ABCD0123487654 belongs to Peter has a balance of 932\n"
     ]
    }
   ],
   "source": [
    "acc1 = BankAccount('NL99ABCD0123487654', 'Peter', balance=100)\n",
    "\n",
    "print(acc1.info())\n",
    "\n",
    "acc1.deposit(1000)\n",
    "acc1.withdraw(21)\n",
    "acc1.withdraw(87)\n",
    "acc1.withdraw(210)\n",
    "acc1.deposit(150)\n",
    "\n",
    "print(acc1.info())\n"
   ]
  },
  {
   "cell_type": "code",
   "execution_count": 137,
   "id": "30245297-2bdc-464c-9c4a-373815b34dde",
   "metadata": {},
   "outputs": [
    {
     "data": {
      "text/plain": [
       "'Account NL99ABCD0123487654 belongs to Peter has a balance of 1866'"
      ]
     },
     "execution_count": 137,
     "metadata": {},
     "output_type": "execute_result"
    }
   ],
   "source": [
    "acc1.deposit(1000).withdraw(10).withdraw(56).info()"
   ]
  },
  {
   "cell_type": "markdown",
   "id": "3e11f752-4c3f-45e3-97fd-a45b38fe46bc",
   "metadata": {},
   "source": [
    "### Class Vector"
   ]
  },
  {
   "cell_type": "code",
   "execution_count": 164,
   "id": "ea9d7fe6-4362-478b-808b-9a873c130988",
   "metadata": {},
   "outputs": [],
   "source": [
    "import math\n",
    "\n",
    "class Vector:\n",
    "\n",
    "    def __init__(self, x, y):\n",
    "        self._x = x\n",
    "        self._y = y\n",
    "\n",
    "    def __repr__(self):\n",
    "        return f'[{self._x}, {self._y}]'\n",
    "\n",
    "    def __add__(self, other):\n",
    "        return Vector(self._x + other._x, self._y + other._y)\n",
    "\n",
    "    def length(self):\n",
    "        return math.sqrt(self._x ** 2 + self._y ** 2)"
   ]
  },
  {
   "cell_type": "code",
   "execution_count": 155,
   "id": "50071a07-6645-4b12-9767-e9877c11eea6",
   "metadata": {},
   "outputs": [],
   "source": [
    "v1 = Vector(4, 6)\n",
    "v2 = Vector(3, 2)\n",
    "\n",
    "v3 = v1 + v2"
   ]
  },
  {
   "cell_type": "code",
   "execution_count": 156,
   "id": "789b5542-15f3-4141-af76-fabf83fb2e9c",
   "metadata": {},
   "outputs": [
    {
     "name": "stdout",
     "output_type": "stream",
     "text": [
      "[4, 6]\n",
      "[3, 2]\n",
      "[7, 8]\n"
     ]
    }
   ],
   "source": [
    "print(v1)\n",
    "print(v2)\n",
    "print(v3)"
   ]
  },
  {
   "cell_type": "code",
   "execution_count": 157,
   "id": "e85320cc-d708-4200-9386-011fe2319e8a",
   "metadata": {},
   "outputs": [
    {
     "data": {
      "text/plain": [
       "1752"
      ]
     },
     "execution_count": 157,
     "metadata": {},
     "output_type": "execute_result"
    }
   ],
   "source": [
    "876 + 876"
   ]
  },
  {
   "cell_type": "code",
   "execution_count": 158,
   "id": "bb159803-6fab-4552-b1d2-68f9aad48a5c",
   "metadata": {},
   "outputs": [
    {
     "data": {
      "text/plain": [
       "'abcxyz'"
      ]
     },
     "execution_count": 158,
     "metadata": {},
     "output_type": "execute_result"
    }
   ],
   "source": [
    "'abc' + 'xyz'"
   ]
  },
  {
   "cell_type": "code",
   "execution_count": 159,
   "id": "e422c5cb-db33-44c6-886e-980ca3f919df",
   "metadata": {},
   "outputs": [
    {
     "data": {
      "text/plain": [
       "[1, 2, 3, 4, 5, 6]"
      ]
     },
     "execution_count": 159,
     "metadata": {},
     "output_type": "execute_result"
    }
   ],
   "source": [
    "[1,2,3] + [4,5,6]"
   ]
  },
  {
   "cell_type": "code",
   "execution_count": 160,
   "id": "699e448f-8ac7-42cc-9604-3a4e300e263f",
   "metadata": {},
   "outputs": [
    {
     "data": {
      "text/plain": [
       "[7, 8]"
      ]
     },
     "execution_count": 160,
     "metadata": {},
     "output_type": "execute_result"
    }
   ],
   "source": [
    "v1 + v2"
   ]
  },
  {
   "cell_type": "code",
   "execution_count": 163,
   "id": "7dc34947-1710-4007-8052-e96b6baac82e",
   "metadata": {},
   "outputs": [
    {
     "ename": "TypeError",
     "evalue": "'>' not supported between instances of 'Vector' and 'Vector'",
     "output_type": "error",
     "traceback": [
      "\u001b[0;31m---------------------------------------------------------------------------\u001b[0m",
      "\u001b[0;31mTypeError\u001b[0m                                 Traceback (most recent call last)",
      "Cell \u001b[0;32mIn[163], line 1\u001b[0m\n\u001b[0;32m----> 1\u001b[0m \u001b[43mv1\u001b[49m\u001b[43m \u001b[49m\u001b[38;5;241;43m>\u001b[39;49m\u001b[43m \u001b[49m\u001b[43mv2\u001b[49m\n",
      "\u001b[0;31mTypeError\u001b[0m: '>' not supported between instances of 'Vector' and 'Vector'"
     ]
    }
   ],
   "source": [
    "v1 > v2"
   ]
  },
  {
   "cell_type": "code",
   "execution_count": 1,
   "id": "1d16e481-e3d4-4f6d-9d41-b49f8826263c",
   "metadata": {},
   "outputs": [],
   "source": [
    "from vectors import Vector"
   ]
  },
  {
   "cell_type": "code",
   "execution_count": 5,
   "id": "01a10491-1259-4267-b392-6c955a9560d9",
   "metadata": {},
   "outputs": [],
   "source": [
    "v1 = Vector(2,3)\n",
    "v2 = Vector(4,3)"
   ]
  },
  {
   "cell_type": "code",
   "execution_count": 6,
   "id": "348bfc1f-e521-45cf-aff5-38105c3b2d17",
   "metadata": {},
   "outputs": [
    {
     "data": {
      "text/plain": [
       "[4, 6]"
      ]
     },
     "execution_count": 6,
     "metadata": {},
     "output_type": "execute_result"
    }
   ],
   "source": [
    "v1 + v1"
   ]
  },
  {
   "cell_type": "code",
   "execution_count": 10,
   "id": "7bc055b8-82e0-4fc2-9129-480968f9c264",
   "metadata": {},
   "outputs": [
    {
     "data": {
      "text/plain": [
       "True"
      ]
     },
     "execution_count": 10,
     "metadata": {},
     "output_type": "execute_result"
    }
   ],
   "source": [
    "v1 < v2"
   ]
  },
  {
   "cell_type": "code",
   "execution_count": 8,
   "id": "0404d8c9-1243-4ee4-a63b-86d6d4c6bce6",
   "metadata": {},
   "outputs": [
    {
     "data": {
      "text/plain": [
       "3.605551275463989"
      ]
     },
     "execution_count": 8,
     "metadata": {},
     "output_type": "execute_result"
    }
   ],
   "source": [
    "v1.length()"
   ]
  },
  {
   "cell_type": "code",
   "execution_count": 9,
   "id": "1e6fd64f-778d-4cd6-a509-4a4060f28754",
   "metadata": {},
   "outputs": [
    {
     "data": {
      "text/plain": [
       "5.0"
      ]
     },
     "execution_count": 9,
     "metadata": {},
     "output_type": "execute_result"
    }
   ],
   "source": [
    "v2.length()"
   ]
  },
  {
   "cell_type": "code",
   "execution_count": 11,
   "id": "eb159dfd-d639-4716-a431-8d133ab73fc4",
   "metadata": {},
   "outputs": [
    {
     "data": {
      "text/plain": [
       "['__add__',\n",
       " '__class__',\n",
       " '__contains__',\n",
       " '__delattr__',\n",
       " '__dir__',\n",
       " '__doc__',\n",
       " '__eq__',\n",
       " '__format__',\n",
       " '__ge__',\n",
       " '__getattribute__',\n",
       " '__getitem__',\n",
       " '__getnewargs__',\n",
       " '__getstate__',\n",
       " '__gt__',\n",
       " '__hash__',\n",
       " '__init__',\n",
       " '__init_subclass__',\n",
       " '__iter__',\n",
       " '__le__',\n",
       " '__len__',\n",
       " '__lt__',\n",
       " '__mod__',\n",
       " '__mul__',\n",
       " '__ne__',\n",
       " '__new__',\n",
       " '__reduce__',\n",
       " '__reduce_ex__',\n",
       " '__repr__',\n",
       " '__rmod__',\n",
       " '__rmul__',\n",
       " '__setattr__',\n",
       " '__sizeof__',\n",
       " '__str__',\n",
       " '__subclasshook__',\n",
       " 'capitalize',\n",
       " 'casefold',\n",
       " 'center',\n",
       " 'count',\n",
       " 'encode',\n",
       " 'endswith',\n",
       " 'expandtabs',\n",
       " 'find',\n",
       " 'format',\n",
       " 'format_map',\n",
       " 'index',\n",
       " 'isalnum',\n",
       " 'isalpha',\n",
       " 'isascii',\n",
       " 'isdecimal',\n",
       " 'isdigit',\n",
       " 'isidentifier',\n",
       " 'islower',\n",
       " 'isnumeric',\n",
       " 'isprintable',\n",
       " 'isspace',\n",
       " 'istitle',\n",
       " 'isupper',\n",
       " 'join',\n",
       " 'ljust',\n",
       " 'lower',\n",
       " 'lstrip',\n",
       " 'maketrans',\n",
       " 'partition',\n",
       " 'removeprefix',\n",
       " 'removesuffix',\n",
       " 'replace',\n",
       " 'rfind',\n",
       " 'rindex',\n",
       " 'rjust',\n",
       " 'rpartition',\n",
       " 'rsplit',\n",
       " 'rstrip',\n",
       " 'split',\n",
       " 'splitlines',\n",
       " 'startswith',\n",
       " 'strip',\n",
       " 'swapcase',\n",
       " 'title',\n",
       " 'translate',\n",
       " 'upper',\n",
       " 'zfill']"
      ]
     },
     "execution_count": 11,
     "metadata": {},
     "output_type": "execute_result"
    }
   ],
   "source": [
    "dir(str)"
   ]
  },
  {
   "cell_type": "markdown",
   "id": "7c672b57-5a94-4920-a64d-2a5960a8201e",
   "metadata": {},
   "source": [
    "### Requests"
   ]
  },
  {
   "cell_type": "code",
   "execution_count": 1,
   "id": "ff12b895-1352-4013-bd49-022f1a90b493",
   "metadata": {},
   "outputs": [],
   "source": [
    "d = {\"coord\":{\"lon\":-74.006,\"lat\":40.7143},\"weather\":[{\"id\":803,\"main\":\"Clouds\",\"description\":\"broken clouds\",\"icon\":\"04n\"}],\"base\":\"stations\",\"main\":{\"temp\":4.55,\"feels_like\":1.56,\"temp_min\":1.8,\"temp_max\":6.23,\"pressure\":1017,\"humidity\":72,\"sea_level\":1017,\"grnd_level\":1015},\"visibility\":10000,\"wind\":{\"speed\":3.58,\"deg\":310,\"gust\":4.92},\"clouds\":{\"all\":75},\"dt\":1732703694,\"sys\":{\"type\":2,\"id\":2037026,\"country\":\"US\",\"sunrise\":1732708633,\"sunset\":1732743050},\"timezone\":-18000,\"id\":5128581,\"name\":\"New York\",\"cod\":200}"
   ]
  },
  {
   "cell_type": "code",
   "execution_count": 11,
   "id": "cf677646-976c-4463-9aa0-e3c37d21e71c",
   "metadata": {},
   "outputs": [
    {
     "name": "stdout",
     "output_type": "stream",
     "text": [
      "{'base': 'stations',\n",
      " 'clouds': {'all': 75},\n",
      " 'cod': 200,\n",
      " 'coord': {'lat': 40.7143, 'lon': -74.006},\n",
      " 'dt': 1732703694,\n",
      " 'id': 5128581,\n",
      " 'main': {'feels_like': 1.56,\n",
      "          'grnd_level': 1015,\n",
      "          'humidity': 72,\n",
      "          'pressure': 1017,\n",
      "          'sea_level': 1017,\n",
      "          'temp': 4.55,\n",
      "          'temp_max': 6.23,\n",
      "          'temp_min': 1.8},\n",
      " 'name': 'New York',\n",
      " 'sys': {'country': 'US',\n",
      "         'id': 2037026,\n",
      "         'sunrise': 1732708633,\n",
      "         'sunset': 1732743050,\n",
      "         'type': 2},\n",
      " 'timezone': -18000,\n",
      " 'visibility': 10000,\n",
      " 'weather': [{'description': 'broken clouds',\n",
      "              'icon': '04n',\n",
      "              'id': 803,\n",
      "              'main': 'Clouds'}],\n",
      " 'wind': {'deg': 310, 'gust': 4.92, 'speed': 3.58}}\n"
     ]
    }
   ],
   "source": [
    "from pprint import pprint\n",
    "\n",
    "pprint(d)"
   ]
  },
  {
   "cell_type": "code",
   "execution_count": 7,
   "id": "c23e7ed8-2326-443b-84d3-fc1e2514e361",
   "metadata": {},
   "outputs": [],
   "source": [
    "temperature = d['main']['temp']"
   ]
  },
  {
   "cell_type": "code",
   "execution_count": 10,
   "id": "f3ebd53d-d41d-4723-92b9-9c7ec243b05f",
   "metadata": {},
   "outputs": [
    {
     "name": "stdout",
     "output_type": "stream",
     "text": [
      "Het is nu 5° in New York\n"
     ]
    }
   ],
   "source": [
    "print(f'Het is nu {temperature:.0f}° in New York')"
   ]
  },
  {
   "cell_type": "code",
   "execution_count": 14,
   "id": "f4c03f28-b425-4f5b-9b1d-98d2fc3d2603",
   "metadata": {},
   "outputs": [
    {
     "data": {
      "text/plain": [
       "'Clouds'"
      ]
     },
     "execution_count": 14,
     "metadata": {},
     "output_type": "execute_result"
    }
   ],
   "source": [
    "d['weather'][0]['main']"
   ]
  },
  {
   "cell_type": "code",
   "execution_count": 17,
   "id": "32bc37d3-5ce8-433c-a66d-8493a83e0c14",
   "metadata": {},
   "outputs": [],
   "source": [
    "import requests"
   ]
  },
  {
   "cell_type": "code",
   "execution_count": 34,
   "id": "d4f67397-231f-4da5-a76a-727a030a4461",
   "metadata": {},
   "outputs": [
    {
     "name": "stdout",
     "output_type": "stream",
     "text": [
      "http://api.openweathermap.org/data/2.5/weather?appid=d1526a9039658a6f76950cff21823aff&units=metric&mode=json&q=Kathmandu\n"
     ]
    }
   ],
   "source": [
    "city = 'Kathmandu'\n",
    "\n",
    "url = \"http://api.openweathermap.org/data/2.5/weather\"\n",
    "url += \"?appid=d1526a9039658a6f76950cff21823aff\"\n",
    "url += \"&units=metric\"\n",
    "url += \"&mode=json\"\n",
    "url += \"&q=\" + city\n",
    "\n",
    "print(url)"
   ]
  },
  {
   "cell_type": "code",
   "execution_count": 35,
   "id": "0ee87aa9-fdaa-46e8-aecd-cc1aa5599bb4",
   "metadata": {},
   "outputs": [],
   "source": [
    "r = requests.get(url)"
   ]
  },
  {
   "cell_type": "code",
   "execution_count": 36,
   "id": "931bec78-5564-47d6-827d-6fb1b24734a4",
   "metadata": {},
   "outputs": [
    {
     "data": {
      "text/plain": [
       "requests.models.Response"
      ]
     },
     "execution_count": 36,
     "metadata": {},
     "output_type": "execute_result"
    }
   ],
   "source": [
    "type(r)"
   ]
  },
  {
   "cell_type": "code",
   "execution_count": 37,
   "id": "6359b26a-9c9f-496a-b090-ebb4e9d1ec6e",
   "metadata": {},
   "outputs": [
    {
     "data": {
      "text/plain": [
       "200"
      ]
     },
     "execution_count": 37,
     "metadata": {},
     "output_type": "execute_result"
    }
   ],
   "source": [
    "r.status_code"
   ]
  },
  {
   "cell_type": "code",
   "execution_count": 39,
   "id": "36329184-c573-4b02-932f-cfaa1285579e",
   "metadata": {},
   "outputs": [],
   "source": [
    "d = r.json()"
   ]
  },
  {
   "cell_type": "code",
   "execution_count": 42,
   "id": "df0d9739-0a93-4147-be73-3a7985a0886e",
   "metadata": {},
   "outputs": [
    {
     "name": "stdout",
     "output_type": "stream",
     "text": [
      "{'base': 'stations',\n",
      " 'clouds': {'all': 20},\n",
      " 'cod': 200,\n",
      " 'coord': {'lat': 27.7167, 'lon': 85.3167},\n",
      " 'dt': 1732705228,\n",
      " 'id': 1283240,\n",
      " 'main': {'feels_like': 16.53,\n",
      "          'grnd_level': 851,\n",
      "          'humidity': 63,\n",
      "          'pressure': 1014,\n",
      "          'sea_level': 1014,\n",
      "          'temp': 17.12,\n",
      "          'temp_max': 17.12,\n",
      "          'temp_min': 17.12},\n",
      " 'name': 'Kathmandu',\n",
      " 'sys': {'country': 'NP',\n",
      "         'id': 9201,\n",
      "         'sunrise': 1732668565,\n",
      "         'sunset': 1732706625,\n",
      "         'type': 1},\n",
      " 'timezone': 20700,\n",
      " 'visibility': 5000,\n",
      " 'weather': [{'description': 'haze', 'icon': '50d', 'id': 721, 'main': 'Haze'}],\n",
      " 'wind': {'deg': 270, 'speed': 3.6}}\n"
     ]
    }
   ],
   "source": [
    "pprint(d)"
   ]
  },
  {
   "cell_type": "code",
   "execution_count": 40,
   "id": "3250522b-3f51-4914-bced-5f80a6f41eeb",
   "metadata": {},
   "outputs": [],
   "source": [
    "temperature = d['main']['temp']"
   ]
  },
  {
   "cell_type": "code",
   "execution_count": 41,
   "id": "b7cd4145-d7eb-480d-9a1f-7d95e466f875",
   "metadata": {},
   "outputs": [
    {
     "data": {
      "text/plain": [
       "17.12"
      ]
     },
     "execution_count": 41,
     "metadata": {},
     "output_type": "execute_result"
    }
   ],
   "source": [
    "temperature"
   ]
  },
  {
   "cell_type": "markdown",
   "id": "0fd1703d-df41-4439-85c7-b6972419693d",
   "metadata": {},
   "source": [
    "### Pandas"
   ]
  },
  {
   "cell_type": "code",
   "execution_count": 44,
   "id": "59cf7bf0-835d-4eda-8279-31090965ed5e",
   "metadata": {},
   "outputs": [],
   "source": [
    "import pandas as pd"
   ]
  },
  {
   "cell_type": "code",
   "execution_count": 62,
   "id": "b5cbca13-2777-4edf-974d-db343eb19d77",
   "metadata": {},
   "outputs": [],
   "source": [
    "filename = 'ca-500.csv'\n",
    "\n",
    "filename = r'/Users/peter/Computrain/_InCompany/Ministerie van Buitenlandse Zaken/Sandbox/ca-500.csvX'"
   ]
  },
  {
   "cell_type": "code",
   "execution_count": 63,
   "id": "3a2c3674-f65e-4923-8264-167d2a820849",
   "metadata": {},
   "outputs": [
    {
     "name": "stdout",
     "output_type": "stream",
     "text": [
      "Kan bestand niet vinden!! Look again.\n"
     ]
    }
   ],
   "source": [
    "try:\n",
    "    df = pd.read_csv(filename, sep=';')\n",
    "\n",
    "except FileNotFoundError:\n",
    "    print('Kan bestand niet vinden!! Look again.')\n",
    "\n",
    "else:\n",
    "    print('Bestand geopend.')"
   ]
  },
  {
   "cell_type": "code",
   "execution_count": 71,
   "id": "07037451-da76-4407-ae40-dfe56796039d",
   "metadata": {},
   "outputs": [],
   "source": [
    "def bereken_oppervlakte(breedte, diepte):\n",
    "    # if breedte < 0 or diepte < 0:\n",
    "    #     raise ValueError('Argument kan niet negatief zijn!')\n",
    "    return abs(breedte) * abs(diepte)"
   ]
  },
  {
   "cell_type": "code",
   "execution_count": 73,
   "id": "67371d96-4e63-4636-8511-917f90c9f60d",
   "metadata": {},
   "outputs": [],
   "source": [
    "try:\n",
    "    opp = bereken_oppervlakte(2.5, -4)\n",
    "\n",
    "except ValueError as ex:\n",
    "    print(ex)"
   ]
  },
  {
   "cell_type": "code",
   "execution_count": 74,
   "id": "c7f13e7e-52b1-4a6e-acb3-6e2e9fa8e4f2",
   "metadata": {},
   "outputs": [
    {
     "name": "stdout",
     "output_type": "stream",
     "text": [
      "10.0\n"
     ]
    }
   ],
   "source": [
    "print(opp)"
   ]
  },
  {
   "cell_type": "code",
   "execution_count": null,
   "id": "53332df6-f7e0-4abc-a2bb-7a8e03cab1d0",
   "metadata": {},
   "outputs": [],
   "source": []
  }
 ],
 "metadata": {
  "kernelspec": {
   "display_name": "Python 3 (ipykernel)",
   "language": "python",
   "name": "python3"
  },
  "language_info": {
   "codemirror_mode": {
    "name": "ipython",
    "version": 3
   },
   "file_extension": ".py",
   "mimetype": "text/x-python",
   "name": "python",
   "nbconvert_exporter": "python",
   "pygments_lexer": "ipython3",
   "version": "3.11.9"
  }
 },
 "nbformat": 4,
 "nbformat_minor": 5
}
