{
 "cells": [
  {
   "cell_type": "markdown",
   "id": "70a51899-ad51-4bf2-adea-3fd3f3b4a646",
   "metadata": {},
   "source": [
    "# Dag 2"
   ]
  },
  {
   "cell_type": "markdown",
   "id": "5ecd26e1-6bfb-4e8e-9fa7-dacecd2d2b60",
   "metadata": {},
   "source": [
    "### Datastructures"
   ]
  },
  {
   "cell_type": "code",
   "execution_count": 20,
   "id": "a9e61eac-3296-4b7a-955a-9170e9bb7929",
   "metadata": {},
   "outputs": [],
   "source": [
    "boodschappen = []\n",
    "\n",
    "boodschappen = list()"
   ]
  },
  {
   "cell_type": "code",
   "execution_count": 21,
   "id": "b63da93b-2cf6-4b10-a1c6-373d49da7e19",
   "metadata": {},
   "outputs": [
    {
     "data": {
      "text/plain": [
       "list"
      ]
     },
     "execution_count": 21,
     "metadata": {},
     "output_type": "execute_result"
    }
   ],
   "source": [
    "type(boodschappen)"
   ]
  },
  {
   "cell_type": "code",
   "execution_count": 22,
   "id": "cd1dc02d-ed4a-4379-b09e-745e44ed9e0e",
   "metadata": {},
   "outputs": [
    {
     "data": {
      "text/plain": [
       "[23, 54, 87, 983, 67, 89]"
      ]
     },
     "execution_count": 22,
     "metadata": {},
     "output_type": "execute_result"
    }
   ],
   "source": [
    "getallen = [23,54,87,983,67,89]\n",
    "getallen"
   ]
  },
  {
   "cell_type": "code",
   "execution_count": 23,
   "id": "51e39d1e-ab1b-482a-aabd-bd82f034614d",
   "metadata": {},
   "outputs": [
    {
     "data": {
      "text/plain": [
       "list"
      ]
     },
     "execution_count": 23,
     "metadata": {},
     "output_type": "execute_result"
    }
   ],
   "source": [
    "type(getallen)"
   ]
  },
  {
   "cell_type": "code",
   "execution_count": 24,
   "id": "d00c72c0-58a9-4f1e-a5f9-682c0393d4aa",
   "metadata": {},
   "outputs": [
    {
     "data": {
      "text/plain": [
       "6"
      ]
     },
     "execution_count": 24,
     "metadata": {},
     "output_type": "execute_result"
    }
   ],
   "source": [
    "len(getallen)"
   ]
  },
  {
   "cell_type": "code",
   "execution_count": 25,
   "id": "f691ff50-f50f-4d1e-8309-668c46be10cb",
   "metadata": {},
   "outputs": [
    {
     "data": {
      "text/plain": [
       "[]"
      ]
     },
     "execution_count": 25,
     "metadata": {},
     "output_type": "execute_result"
    }
   ],
   "source": [
    "boodschappen"
   ]
  },
  {
   "cell_type": "code",
   "execution_count": 26,
   "id": "739ae341-c884-4e54-8b34-b39fbc59ce37",
   "metadata": {},
   "outputs": [],
   "source": [
    "boodschappen.append('boter')\n",
    "boodschappen.append('kaas')\n",
    "boodschappen.append('eieren')"
   ]
  },
  {
   "cell_type": "code",
   "execution_count": 27,
   "id": "ba033071-d4a5-44fe-9449-6cd320dac6f9",
   "metadata": {},
   "outputs": [
    {
     "data": {
      "text/plain": [
       "['boter', 'kaas', 'eieren']"
      ]
     },
     "execution_count": 27,
     "metadata": {},
     "output_type": "execute_result"
    }
   ],
   "source": [
    "boodschappen"
   ]
  },
  {
   "cell_type": "code",
   "execution_count": 28,
   "id": "3f647546-8048-45d4-8d14-85f707219efc",
   "metadata": {},
   "outputs": [
    {
     "data": {
      "text/plain": [
       "['boter', 'kaas', 'eieren', 'bananen', 'appels', 'peren']"
      ]
     },
     "execution_count": 28,
     "metadata": {},
     "output_type": "execute_result"
    }
   ],
   "source": [
    "boodschappen.extend(['bananen','appels','peren'])\n",
    "boodschappen"
   ]
  },
  {
   "cell_type": "code",
   "execution_count": 29,
   "id": "aefb1819-91b3-4394-9c50-238260cfe4e3",
   "metadata": {},
   "outputs": [
    {
     "data": {
      "text/plain": [
       "['bier', 'boter', 'kaas', 'eieren', 'bananen', 'appels', 'peren']"
      ]
     },
     "execution_count": 29,
     "metadata": {},
     "output_type": "execute_result"
    }
   ],
   "source": [
    "boodschappen.insert(0, 'bier')\n",
    "boodschappen"
   ]
  },
  {
   "cell_type": "code",
   "execution_count": 30,
   "id": "8b5e14bf-afc2-4c09-b3fe-4cbcc199ae86",
   "metadata": {},
   "outputs": [
    {
     "data": {
      "text/plain": [
       "'bananen'"
      ]
     },
     "execution_count": 30,
     "metadata": {},
     "output_type": "execute_result"
    }
   ],
   "source": [
    "boodschappen[4]"
   ]
  },
  {
   "cell_type": "code",
   "execution_count": 31,
   "id": "79fea31d-1c5c-479a-a881-7ee1895cd197",
   "metadata": {},
   "outputs": [],
   "source": [
    "del boodschappen[4]"
   ]
  },
  {
   "cell_type": "code",
   "execution_count": 32,
   "id": "91f8e5ae-c5ae-4b3e-b198-5744c9975b3c",
   "metadata": {},
   "outputs": [
    {
     "data": {
      "text/plain": [
       "['bier', 'boter', 'kaas', 'eieren', 'appels', 'peren']"
      ]
     },
     "execution_count": 32,
     "metadata": {},
     "output_type": "execute_result"
    }
   ],
   "source": [
    "boodschappen"
   ]
  },
  {
   "cell_type": "code",
   "execution_count": 35,
   "id": "ee786aed-2b86-448b-bc84-314d995597d1",
   "metadata": {},
   "outputs": [
    {
     "data": {
      "text/plain": [
       "['bier', 'boter', 'appels', 'peren']"
      ]
     },
     "execution_count": 35,
     "metadata": {},
     "output_type": "execute_result"
    }
   ],
   "source": [
    "boodschappen.remove('kaas')\n",
    "boodschappen"
   ]
  },
  {
   "cell_type": "code",
   "execution_count": 40,
   "id": "be34ce2d-085f-4548-b290-b142031b1262",
   "metadata": {},
   "outputs": [],
   "source": [
    "boodschappen.reverse()"
   ]
  },
  {
   "cell_type": "code",
   "execution_count": 51,
   "id": "28cb4010-2e00-4ae3-a77c-7d54175d0e10",
   "metadata": {},
   "outputs": [],
   "source": [
    "boodschappen = ['bier', 'boter', 'appels', 'peren']"
   ]
  },
  {
   "cell_type": "code",
   "execution_count": 52,
   "id": "a9f9d8c1-965b-4b3d-9b30-5cc7cd7fd344",
   "metadata": {},
   "outputs": [],
   "source": [
    "boodschappen.sort()"
   ]
  },
  {
   "cell_type": "code",
   "execution_count": 53,
   "id": "0bff38fa-6a8e-4ffa-8d32-bfc5c37dd5e8",
   "metadata": {},
   "outputs": [
    {
     "data": {
      "text/plain": [
       "['appels', 'bier', 'boter', 'peren']"
      ]
     },
     "execution_count": 53,
     "metadata": {},
     "output_type": "execute_result"
    }
   ],
   "source": [
    "boodschappen"
   ]
  },
  {
   "cell_type": "code",
   "execution_count": 54,
   "id": "76cc69f4-37a5-4da7-bad6-16903d11c911",
   "metadata": {},
   "outputs": [],
   "source": [
    "kopie = boodschappen"
   ]
  },
  {
   "cell_type": "code",
   "execution_count": 55,
   "id": "ad094ad3-821c-44ca-ae73-a2a1a16b6daa",
   "metadata": {},
   "outputs": [
    {
     "data": {
      "text/plain": [
       "['appels', 'bier', 'boter', 'peren']"
      ]
     },
     "execution_count": 55,
     "metadata": {},
     "output_type": "execute_result"
    }
   ],
   "source": [
    "kopie"
   ]
  },
  {
   "cell_type": "code",
   "execution_count": 56,
   "id": "173a300b-1108-469f-be62-fe3665cd9229",
   "metadata": {},
   "outputs": [],
   "source": [
    "boodschappen.append('aardbeien')\n",
    "boodschappen.sort()"
   ]
  },
  {
   "cell_type": "code",
   "execution_count": 57,
   "id": "362dfd45-11e6-4aa4-9c61-a9890fa0eaf7",
   "metadata": {},
   "outputs": [
    {
     "data": {
      "text/plain": [
       "['aardbeien', 'appels', 'bier', 'boter', 'peren']"
      ]
     },
     "execution_count": 57,
     "metadata": {},
     "output_type": "execute_result"
    }
   ],
   "source": [
    "boodschappen"
   ]
  },
  {
   "cell_type": "code",
   "execution_count": 58,
   "id": "de94e029-4637-47c2-875d-02922da33907",
   "metadata": {},
   "outputs": [
    {
     "data": {
      "text/plain": [
       "['aardbeien', 'appels', 'bier', 'boter', 'peren']"
      ]
     },
     "execution_count": 58,
     "metadata": {},
     "output_type": "execute_result"
    }
   ],
   "source": [
    "kopie"
   ]
  },
  {
   "cell_type": "code",
   "execution_count": 64,
   "id": "51782086-7ab2-4f11-9a57-7aaa5d8965cc",
   "metadata": {},
   "outputs": [
    {
     "data": {
      "text/plain": [
       "1303"
      ]
     },
     "execution_count": 64,
     "metadata": {},
     "output_type": "execute_result"
    }
   ],
   "source": [
    "sum(getallen)"
   ]
  },
  {
   "cell_type": "code",
   "execution_count": 65,
   "id": "ead6f073-cbeb-407d-b921-f5f126bade4c",
   "metadata": {},
   "outputs": [
    {
     "data": {
      "text/plain": [
       "[23, 54, 87, 983, 67, 89]"
      ]
     },
     "execution_count": 65,
     "metadata": {},
     "output_type": "execute_result"
    }
   ],
   "source": [
    "getallen"
   ]
  },
  {
   "cell_type": "code",
   "execution_count": 66,
   "id": "9ffcb2d4-5db4-4607-88ef-f89225dfa19e",
   "metadata": {},
   "outputs": [
    {
     "data": {
      "text/plain": [
       "217.16666666666666"
      ]
     },
     "execution_count": 66,
     "metadata": {},
     "output_type": "execute_result"
    }
   ],
   "source": [
    "import statistics\n",
    "statistics.mean(getallen)"
   ]
  },
  {
   "cell_type": "code",
   "execution_count": 67,
   "id": "3aa6ccc3-adee-4c5f-aefb-2e181601426b",
   "metadata": {},
   "outputs": [
    {
     "data": {
      "text/plain": [
       "77.0"
      ]
     },
     "execution_count": 67,
     "metadata": {},
     "output_type": "execute_result"
    }
   ],
   "source": [
    "statistics.median(getallen)"
   ]
  },
  {
   "cell_type": "code",
   "execution_count": 68,
   "id": "0bc9e899-8f38-4721-af03-451586e9030b",
   "metadata": {},
   "outputs": [],
   "source": [
    "kwadraten = []\n",
    "for getal in getallen:\n",
    "    kwadraat = getal ** 2\n",
    "    kwadraten.append(kwadraat)"
   ]
  },
  {
   "cell_type": "code",
   "execution_count": 69,
   "id": "317c71e0-ba00-479b-8e54-a5665e377fc5",
   "metadata": {},
   "outputs": [
    {
     "data": {
      "text/plain": [
       "[529, 2916, 7569, 966289, 4489, 7921]"
      ]
     },
     "execution_count": 69,
     "metadata": {},
     "output_type": "execute_result"
    }
   ],
   "source": [
    "kwadraten"
   ]
  },
  {
   "cell_type": "code",
   "execution_count": 70,
   "id": "a3db67c5-b06e-4cbe-97f5-e92c286f0c5c",
   "metadata": {},
   "outputs": [],
   "source": [
    "kwadraten = [getal ** 2 for getal in getallen]"
   ]
  },
  {
   "cell_type": "code",
   "execution_count": 71,
   "id": "f7890b69-2e96-44a9-b126-ef4bfc972299",
   "metadata": {},
   "outputs": [
    {
     "data": {
      "text/plain": [
       "[529, 2916, 7569, 966289, 4489, 7921]"
      ]
     },
     "execution_count": 71,
     "metadata": {},
     "output_type": "execute_result"
    }
   ],
   "source": [
    "kwadraten"
   ]
  },
  {
   "cell_type": "code",
   "execution_count": 73,
   "id": "46110b51-e8f7-4f6f-9b0b-43f81aadd734",
   "metadata": {},
   "outputs": [
    {
     "data": {
      "text/plain": [
       "[9, 6, 4, 5, 5]"
      ]
     },
     "execution_count": 73,
     "metadata": {},
     "output_type": "execute_result"
    }
   ],
   "source": [
    "[len(item) for item in boodschappen]"
   ]
  },
  {
   "cell_type": "code",
   "execution_count": 77,
   "id": "6ab8805e-6f34-4a92-8dca-f9342b99aabb",
   "metadata": {},
   "outputs": [
    {
     "data": {
      "text/plain": [
       "['aardbeien', 'appels']"
      ]
     },
     "execution_count": 77,
     "metadata": {},
     "output_type": "execute_result"
    }
   ],
   "source": [
    "[item for item in boodschappen if item.startswith('a')]"
   ]
  },
  {
   "cell_type": "code",
   "execution_count": 78,
   "id": "87f7d690-8651-40e9-a9f7-65d8ca6f8a14",
   "metadata": {},
   "outputs": [
    {
     "data": {
      "text/plain": [
       "['aardbeien',\n",
       " 'appels',\n",
       " 'larissa@minbuza.nl',\n",
       " 'bier',\n",
       " 'boter',\n",
       " 'peren',\n",
       " 'peter@tip.nl']"
      ]
     },
     "execution_count": 78,
     "metadata": {},
     "output_type": "execute_result"
    }
   ],
   "source": [
    "boodschappen.append('peter@tip.nl')\n",
    "boodschappen.insert(2, 'larissa@minbuza.nl')\n",
    "boodschappen"
   ]
  },
  {
   "cell_type": "code",
   "execution_count": 80,
   "id": "e9d4b3be-0d9c-4225-bb23-b0ecfbcfa11d",
   "metadata": {},
   "outputs": [
    {
     "data": {
      "text/plain": [
       "['larissa@minbuza.nl', 'peter@tip.nl']"
      ]
     },
     "execution_count": 80,
     "metadata": {},
     "output_type": "execute_result"
    }
   ],
   "source": [
    "import re\n",
    "\n",
    "[item for item in boodschappen if re.match(r'\\w+@[\\w\\.]+', item)]\n"
   ]
  },
  {
   "cell_type": "code",
   "execution_count": 88,
   "id": "71bb45ac-182c-4346-b447-5d60272d7687",
   "metadata": {},
   "outputs": [],
   "source": [
    "s = 'abracadabra'"
   ]
  },
  {
   "cell_type": "code",
   "execution_count": 89,
   "id": "049ef448-e6a0-4d7d-92c3-924cfae56ca3",
   "metadata": {},
   "outputs": [
    {
     "data": {
      "text/plain": [
       "4"
      ]
     },
     "execution_count": 89,
     "metadata": {},
     "output_type": "execute_result"
    }
   ],
   "source": [
    "s.index('c')"
   ]
  },
  {
   "cell_type": "code",
   "execution_count": 91,
   "id": "187fb2f3-197a-4e9c-b6b7-f363f97e32c9",
   "metadata": {},
   "outputs": [
    {
     "data": {
      "text/plain": [
       "5"
      ]
     },
     "execution_count": 91,
     "metadata": {},
     "output_type": "execute_result"
    }
   ],
   "source": [
    "s.count('a')"
   ]
  },
  {
   "cell_type": "code",
   "execution_count": 93,
   "id": "18928fe8-5481-4b4c-9d25-65c9e4f497a2",
   "metadata": {},
   "outputs": [
    {
     "data": {
      "text/plain": [
       "['a', 'b', 'r', 'a', 'c', 'a', 'd', 'a', 'b', 'r', 'a']"
      ]
     },
     "execution_count": 93,
     "metadata": {},
     "output_type": "execute_result"
    }
   ],
   "source": [
    "l = list(s)\n",
    "l"
   ]
  },
  {
   "cell_type": "code",
   "execution_count": 94,
   "id": "31a87cf1-3a0f-40f6-ae31-c11877ef7857",
   "metadata": {},
   "outputs": [
    {
     "data": {
      "text/plain": [
       "['aardbeien',\n",
       " 'appels',\n",
       " 'larissa@minbuza.nl',\n",
       " 'bier',\n",
       " 'boter',\n",
       " 'peren',\n",
       " 'peter@tip.nl']"
      ]
     },
     "execution_count": 94,
     "metadata": {},
     "output_type": "execute_result"
    }
   ],
   "source": [
    "boodschappen"
   ]
  },
  {
   "cell_type": "code",
   "execution_count": 95,
   "id": "a484e2e3-9b78-41ea-b2be-dace8901044d",
   "metadata": {},
   "outputs": [
    {
     "data": {
      "text/plain": [
       "3"
      ]
     },
     "execution_count": 95,
     "metadata": {},
     "output_type": "execute_result"
    }
   ],
   "source": [
    "boodschappen.index('bier')"
   ]
  },
  {
   "cell_type": "code",
   "execution_count": 96,
   "id": "f96a263f-75ab-415b-967a-c2a357259135",
   "metadata": {},
   "outputs": [
    {
     "data": {
      "text/plain": [
       "['aardbeien',\n",
       " 'appels',\n",
       " 'larissa@minbuza.nl',\n",
       " 'bier',\n",
       " 'boter',\n",
       " 'peren',\n",
       " 'peter@tip.nl']"
      ]
     },
     "execution_count": 96,
     "metadata": {},
     "output_type": "execute_result"
    }
   ],
   "source": [
    "boodschappen"
   ]
  },
  {
   "cell_type": "code",
   "execution_count": 97,
   "id": "d182feb7-a436-4c09-b545-da85e7042ac5",
   "metadata": {},
   "outputs": [
    {
     "data": {
      "text/plain": [
       "'larissa@minbuza.nl'"
      ]
     },
     "execution_count": 97,
     "metadata": {},
     "output_type": "execute_result"
    }
   ],
   "source": [
    "boodschappen[2]"
   ]
  },
  {
   "cell_type": "code",
   "execution_count": 105,
   "id": "771c9520-16dd-4df8-b6a8-d76a38151357",
   "metadata": {},
   "outputs": [
    {
     "data": {
      "text/plain": [
       "['peren', 'ijs', 'boter', 'bier', 'appels']"
      ]
     },
     "execution_count": 105,
     "metadata": {},
     "output_type": "execute_result"
    }
   ],
   "source": [
    "boodschappen[::-1]"
   ]
  },
  {
   "cell_type": "code",
   "execution_count": 103,
   "id": "061e7af9-aec1-421b-888b-4db8881f7583",
   "metadata": {},
   "outputs": [
    {
     "data": {
      "text/plain": [
       "['appels', 'bier', 'boter', 'ijs', 'peren']"
      ]
     },
     "execution_count": 103,
     "metadata": {},
     "output_type": "execute_result"
    }
   ],
   "source": [
    "boodschappen2"
   ]
  },
  {
   "cell_type": "code",
   "execution_count": 106,
   "id": "7ec8540e-7929-4261-90e6-db86cded1983",
   "metadata": {},
   "outputs": [
    {
     "data": {
      "text/plain": [
       "'retep'"
      ]
     },
     "execution_count": 106,
     "metadata": {},
     "output_type": "execute_result"
    }
   ],
   "source": [
    "'peter'[::-1]"
   ]
  },
  {
   "cell_type": "code",
   "execution_count": 108,
   "id": "62ef6656-7855-4120-9cfa-82d9bfb5081b",
   "metadata": {},
   "outputs": [
    {
     "ename": "AttributeError",
     "evalue": "'str' object has no attribute 'reverse'",
     "output_type": "error",
     "traceback": [
      "\u001b[0;31m---------------------------------------------------------------------------\u001b[0m",
      "\u001b[0;31mAttributeError\u001b[0m                            Traceback (most recent call last)",
      "Cell \u001b[0;32mIn[108], line 1\u001b[0m\n\u001b[0;32m----> 1\u001b[0m \u001b[38;5;124;43m'\u001b[39;49m\u001b[38;5;124;43mpeter\u001b[39;49m\u001b[38;5;124;43m'\u001b[39;49m\u001b[38;5;241;43m.\u001b[39;49m\u001b[43mreverse\u001b[49m()\n",
      "\u001b[0;31mAttributeError\u001b[0m: 'str' object has no attribute 'reverse'"
     ]
    }
   ],
   "source": [
    "'peter'.reverse()"
   ]
  },
  {
   "cell_type": "code",
   "execution_count": 109,
   "id": "00c0188a-553a-4eaa-84ad-5311c275a8e7",
   "metadata": {},
   "outputs": [
    {
     "data": {
      "text/plain": [
       "['e', 'e', 'p', 'r', 't']"
      ]
     },
     "execution_count": 109,
     "metadata": {},
     "output_type": "execute_result"
    }
   ],
   "source": []
  },
  {
   "cell_type": "code",
   "execution_count": 110,
   "id": "e6518f7e-ff6e-4933-b900-5e28b23d5acb",
   "metadata": {},
   "outputs": [],
   "source": [
    "tekst = 'de luie hond ligt te slapen'"
   ]
  },
  {
   "cell_type": "code",
   "execution_count": 112,
   "id": "76d3d2ba-c5cc-41f5-b454-372257f151f6",
   "metadata": {},
   "outputs": [
    {
     "data": {
      "text/plain": [
       "['de', 'luie', 'hond', 'ligt', 'te', 'slapen']"
      ]
     },
     "execution_count": 112,
     "metadata": {},
     "output_type": "execute_result"
    }
   ],
   "source": [
    "woorden = tekst.split()\n",
    "woorden"
   ]
  },
  {
   "cell_type": "code",
   "execution_count": 114,
   "id": "e2f56a2f-920f-49b6-9d13-134ae7ba276a",
   "metadata": {},
   "outputs": [
    {
     "data": {
      "text/plain": [
       "'de luie hond ligt te slapen'"
      ]
     },
     "execution_count": 114,
     "metadata": {},
     "output_type": "execute_result"
    }
   ],
   "source": [
    "' '.join(woorden)"
   ]
  },
  {
   "cell_type": "code",
   "execution_count": 129,
   "id": "8b6781c4-21ef-414e-ab75-04da5c004d73",
   "metadata": {},
   "outputs": [],
   "source": [
    "q, r = divmod(78, 35)"
   ]
  },
  {
   "cell_type": "code",
   "execution_count": 131,
   "id": "6509ccdd-1052-4457-8802-7c734a74f0e9",
   "metadata": {},
   "outputs": [
    {
     "data": {
      "text/plain": [
       "8"
      ]
     },
     "execution_count": 131,
     "metadata": {},
     "output_type": "execute_result"
    }
   ],
   "source": [
    "r"
   ]
  },
  {
   "cell_type": "code",
   "execution_count": 115,
   "id": "547612a9-4ea0-498a-a4e8-c4730eb38337",
   "metadata": {},
   "outputs": [
    {
     "data": {
      "text/plain": [
       "2.2285714285714286"
      ]
     },
     "execution_count": 115,
     "metadata": {},
     "output_type": "execute_result"
    }
   ],
   "source": [
    "78 / 35"
   ]
  },
  {
   "cell_type": "code",
   "execution_count": 116,
   "id": "ff6e8208-194d-478d-b57c-9d2e10ca9e09",
   "metadata": {},
   "outputs": [
    {
     "data": {
      "text/plain": [
       "2"
      ]
     },
     "execution_count": 116,
     "metadata": {},
     "output_type": "execute_result"
    }
   ],
   "source": [
    "78 // 35"
   ]
  },
  {
   "cell_type": "code",
   "execution_count": 122,
   "id": "4d8ffaab-b75c-407d-8f98-9d1cb4123194",
   "metadata": {},
   "outputs": [
    {
     "data": {
      "text/plain": [
       "8"
      ]
     },
     "execution_count": 122,
     "metadata": {},
     "output_type": "execute_result"
    }
   ],
   "source": [
    "78 % 35"
   ]
  },
  {
   "cell_type": "code",
   "execution_count": 120,
   "id": "c25a64f7-d6e9-4286-a3bd-5d46feeb096a",
   "metadata": {},
   "outputs": [
    {
     "data": {
      "text/plain": [
       "0"
      ]
     },
     "execution_count": 120,
     "metadata": {},
     "output_type": "execute_result"
    }
   ],
   "source": [
    "n = 8975498\n",
    "\n",
    "n % 7"
   ]
  },
  {
   "cell_type": "code",
   "execution_count": 134,
   "id": "42921214-5cf8-45bf-bfa7-c50682b70d11",
   "metadata": {},
   "outputs": [
    {
     "data": {
      "text/plain": [
       "{2, 4, 6, 7}"
      ]
     },
     "execution_count": 134,
     "metadata": {},
     "output_type": "execute_result"
    }
   ],
   "source": [
    "{2,4,6,7,7,7,7,7}"
   ]
  },
  {
   "cell_type": "code",
   "execution_count": 140,
   "id": "1731ae45-d5de-4d9c-a5ad-d56a0d137f2f",
   "metadata": {},
   "outputs": [],
   "source": [
    "import random\n",
    "s = {random.randint(100000, 999999) for _ in range(20)}\n",
    "s.add(983)\n",
    "s.add('fsdsefsd')\n",
    "s.add('tyeri')"
   ]
  },
  {
   "cell_type": "code",
   "execution_count": 142,
   "id": "c4daee8e-53be-4a82-98ca-81d08f580b02",
   "metadata": {},
   "outputs": [
    {
     "data": {
      "text/plain": [
       "['tyeri',\n",
       " 279305,\n",
       " 173070,\n",
       " 574607,\n",
       " 597264,\n",
       " 'fsdsefsd',\n",
       " 905113,\n",
       " 796315,\n",
       " 631711,\n",
       " 994472,\n",
       " 692392,\n",
       " 149566,\n",
       " 535872,\n",
       " 645579,\n",
       " 431313,\n",
       " 983,\n",
       " 170457,\n",
       " 605915,\n",
       " 924261,\n",
       " 527979,\n",
       " 296299,\n",
       " 962550,\n",
       " 441471]"
      ]
     },
     "execution_count": 142,
     "metadata": {},
     "output_type": "execute_result"
    }
   ],
   "source": [
    "list(s)"
   ]
  },
  {
   "cell_type": "code",
   "execution_count": 143,
   "id": "844e4b9d-60bf-4696-b06a-324b5b697a2c",
   "metadata": {},
   "outputs": [],
   "source": [
    "d = {'nl':'+31', 'b':'+32', 'uk':'+44'}"
   ]
  },
  {
   "cell_type": "code",
   "execution_count": 145,
   "id": "2c60912b-3d9a-4486-b28c-41bfd430a3eb",
   "metadata": {},
   "outputs": [
    {
     "data": {
      "text/plain": [
       "'+31'"
      ]
     },
     "execution_count": 145,
     "metadata": {},
     "output_type": "execute_result"
    }
   ],
   "source": [
    "d['nl']"
   ]
  },
  {
   "cell_type": "code",
   "execution_count": 148,
   "id": "7e3dfd22-a199-4e31-84aa-958266d5bcdd",
   "metadata": {},
   "outputs": [
    {
     "data": {
      "text/plain": [
       "'?'"
      ]
     },
     "execution_count": 148,
     "metadata": {},
     "output_type": "execute_result"
    }
   ],
   "source": [
    "d.get('f', '?')"
   ]
  },
  {
   "cell_type": "code",
   "execution_count": 149,
   "id": "47d62d02-7c49-4907-b1c4-df390865ff99",
   "metadata": {},
   "outputs": [],
   "source": [
    "d['f'] = '+99'"
   ]
  },
  {
   "cell_type": "code",
   "execution_count": 150,
   "id": "a7eacd07-bbcd-45d6-a0dc-381eb0163bcd",
   "metadata": {},
   "outputs": [
    {
     "data": {
      "text/plain": [
       "{'nl': '+31', 'b': '+32', 'uk': '+44', 'f': '+99'}"
      ]
     },
     "execution_count": 150,
     "metadata": {},
     "output_type": "execute_result"
    }
   ],
   "source": [
    "d"
   ]
  },
  {
   "cell_type": "code",
   "execution_count": 151,
   "id": "a928edee-19d1-4b6b-8aea-ce228bf97a83",
   "metadata": {},
   "outputs": [],
   "source": [
    "d['f'] = '+33'"
   ]
  },
  {
   "cell_type": "code",
   "execution_count": 152,
   "id": "79dde1de-59a9-48c6-bd3a-c97de21e6c6e",
   "metadata": {},
   "outputs": [
    {
     "data": {
      "text/plain": [
       "{'nl': '+31', 'b': '+32', 'uk': '+44', 'f': '+33'}"
      ]
     },
     "execution_count": 152,
     "metadata": {},
     "output_type": "execute_result"
    }
   ],
   "source": [
    "d"
   ]
  },
  {
   "cell_type": "code",
   "execution_count": 153,
   "id": "74349f49-8dd5-4723-84e8-313fd55d88b6",
   "metadata": {},
   "outputs": [
    {
     "data": {
      "text/plain": [
       "dict_keys(['nl', 'b', 'uk', 'f'])"
      ]
     },
     "execution_count": 153,
     "metadata": {},
     "output_type": "execute_result"
    }
   ],
   "source": [
    "d.keys()"
   ]
  },
  {
   "cell_type": "code",
   "execution_count": 154,
   "id": "9d6e71c5-f228-4ab3-9045-b6c96b3f832e",
   "metadata": {},
   "outputs": [
    {
     "data": {
      "text/plain": [
       "dict_values(['+31', '+32', '+44', '+33'])"
      ]
     },
     "execution_count": 154,
     "metadata": {},
     "output_type": "execute_result"
    }
   ],
   "source": [
    "d.values()"
   ]
  },
  {
   "cell_type": "code",
   "execution_count": 155,
   "id": "1ff9a322-c68a-4276-bc84-2b787df71ada",
   "metadata": {},
   "outputs": [
    {
     "data": {
      "text/plain": [
       "dict_items([('nl', '+31'), ('b', '+32'), ('uk', '+44'), ('f', '+33')])"
      ]
     },
     "execution_count": 155,
     "metadata": {},
     "output_type": "execute_result"
    }
   ],
   "source": [
    "d.items()"
   ]
  },
  {
   "cell_type": "code",
   "execution_count": 157,
   "id": "bb34c2e3-0409-43b8-bff9-d46b170f9d7b",
   "metadata": {},
   "outputs": [
    {
     "name": "stdout",
     "output_type": "stream",
     "text": [
      "nl        : +31\n",
      "b         : +32\n",
      "uk        : +44\n",
      "f         : +33\n"
     ]
    }
   ],
   "source": [
    "for k, v in d.items():\n",
    "    print(f'{k:10}: {v}')"
   ]
  },
  {
   "cell_type": "code",
   "execution_count": 165,
   "id": "2ae7a3d9-61e2-4d4b-ba3c-199042306cf2",
   "metadata": {},
   "outputs": [
    {
     "data": {
      "text/plain": [
       "{64: 'a',\n",
       " 27: 'a',\n",
       " 58: 'a',\n",
       " 96: 'a',\n",
       " 66: 'a',\n",
       " 25: 'a',\n",
       " 80: 'a',\n",
       " 14: 'a',\n",
       " 13: 'a',\n",
       " 100: 'a',\n",
       " 26: 'a',\n",
       " 43: 'a',\n",
       " 59: 'a',\n",
       " 71: 'a',\n",
       " 39: 'a',\n",
       " 48: 'a',\n",
       " 6: 'a',\n",
       " 72: 'a'}"
      ]
     },
     "execution_count": 165,
     "metadata": {},
     "output_type": "execute_result"
    }
   ],
   "source": [
    "{random.randint(1, 100):'a' for _ in range(20)}"
   ]
  },
  {
   "cell_type": "markdown",
   "id": "0c58f7cf-c9fc-4add-a582-6b90db155f27",
   "metadata": {},
   "source": [
    "### Functions"
   ]
  },
  {
   "cell_type": "code",
   "execution_count": 183,
   "id": "454aec4c-1f83-46ff-8cd0-5759e72b5674",
   "metadata": {},
   "outputs": [],
   "source": [
    "def print_goodmorning(name, n = 1):\n",
    "    for i in range(n):\n",
    "        print(f'Goodmorning {name}.')\n",
    "    print('How are you today?')\n",
    "    print('Have a great day!')"
   ]
  },
  {
   "cell_type": "code",
   "execution_count": 184,
   "id": "207c6759-dd43-4357-9a37-dd03271d974d",
   "metadata": {},
   "outputs": [
    {
     "data": {
      "text/plain": [
       "function"
      ]
     },
     "execution_count": 184,
     "metadata": {},
     "output_type": "execute_result"
    }
   ],
   "source": [
    "type(print_goodmorning)"
   ]
  },
  {
   "cell_type": "code",
   "execution_count": 188,
   "id": "0b9cb1bb-a7b7-4509-a09e-70210553fadf",
   "metadata": {},
   "outputs": [
    {
     "name": "stdout",
     "output_type": "stream",
     "text": [
      "Goodmorning Larissa.\n",
      "Goodmorning Larissa.\n",
      "Goodmorning Larissa.\n",
      "Goodmorning Larissa.\n",
      "Goodmorning Larissa.\n",
      "How are you today?\n",
      "Have a great day!\n",
      "Goodmorning Steven.\n",
      "How are you today?\n",
      "Have a great day!\n"
     ]
    }
   ],
   "source": [
    "print_goodmorning('Larissa', n = 5)\n",
    "print_goodmorning('Steven')"
   ]
  },
  {
   "cell_type": "code",
   "execution_count": 187,
   "id": "569986d9-7ec2-445d-b8d8-f724a277b43f",
   "metadata": {},
   "outputs": [
    {
     "name": "stdout",
     "output_type": "stream",
     "text": [
      "Goodmorning Femke.\n",
      "Goodmorning Femke.\n",
      "How are you today?\n",
      "Have a great day!\n",
      "Goodmorning Larissa.\n",
      "Goodmorning Larissa.\n",
      "How are you today?\n",
      "Have a great day!\n",
      "Goodmorning Steven.\n",
      "Goodmorning Steven.\n",
      "How are you today?\n",
      "Have a great day!\n",
      "Goodmorning Tom.\n",
      "Goodmorning Tom.\n",
      "How are you today?\n",
      "Have a great day!\n"
     ]
    }
   ],
   "source": [
    "for naam in ['Femke', 'Larissa', 'Steven', 'Tom']:\n",
    "    print_goodmorning(naam, 2)"
   ]
  },
  {
   "cell_type": "code",
   "execution_count": 170,
   "id": "30fd7682-78e5-4c76-88ed-2b8977b8eec9",
   "metadata": {},
   "outputs": [
    {
     "data": {
      "text/plain": [
       "20"
      ]
     },
     "execution_count": 170,
     "metadata": {},
     "output_type": "execute_result"
    }
   ],
   "source": [
    "import random\n",
    "random.randint(1, 100)"
   ]
  },
  {
   "cell_type": "code",
   "execution_count": 189,
   "id": "e55a55fe-92a9-4a59-9770-27988fb0bda8",
   "metadata": {},
   "outputs": [
    {
     "name": "stdout",
     "output_type": "stream",
     "text": [
      "Help on built-in function print in module builtins:\n",
      "\n",
      "print(*args, sep=' ', end='\\n', file=None, flush=False)\n",
      "    Prints the values to a stream, or to sys.stdout by default.\n",
      "    \n",
      "    sep\n",
      "      string inserted between values, default a space.\n",
      "    end\n",
      "      string appended after the last value, default a newline.\n",
      "    file\n",
      "      a file-like object (stream); defaults to the current sys.stdout.\n",
      "    flush\n",
      "      whether to forcibly flush the stream.\n",
      "\n"
     ]
    }
   ],
   "source": [
    "help(print)"
   ]
  },
  {
   "cell_type": "code",
   "execution_count": 191,
   "id": "1f4d4212-181f-4819-9483-a50a62ade608",
   "metadata": {},
   "outputs": [
    {
     "name": "stdout",
     "output_type": "stream",
     "text": [
      "1 2 3\n",
      "4 5 6\n"
     ]
    }
   ],
   "source": [
    "print(1,2,3)\n",
    "print(4,5,6)"
   ]
  },
  {
   "cell_type": "code",
   "execution_count": 194,
   "id": "13f1235a-ecb4-4f9c-b30b-888aadd5e0f1",
   "metadata": {},
   "outputs": [
    {
     "name": "stdout",
     "output_type": "stream",
     "text": [
      "1|2|3>4|5|6\n"
     ]
    }
   ],
   "source": [
    "print(1,2,3, sep='|', end='>')\n",
    "print(4,5,6, sep='|')"
   ]
  },
  {
   "cell_type": "code",
   "execution_count": 195,
   "id": "ba404818-b9ae-4d20-979f-59c6534d3a76",
   "metadata": {},
   "outputs": [],
   "source": [
    "import pandas as pd"
   ]
  },
  {
   "cell_type": "code",
   "execution_count": 198,
   "id": "64c19f5b-c9f6-46f7-bdfe-fc7d3097f6db",
   "metadata": {},
   "outputs": [
    {
     "data": {
      "text/html": [
       "<div>\n",
       "<style scoped>\n",
       "    .dataframe tbody tr th:only-of-type {\n",
       "        vertical-align: middle;\n",
       "    }\n",
       "\n",
       "    .dataframe tbody tr th {\n",
       "        vertical-align: top;\n",
       "    }\n",
       "\n",
       "    .dataframe thead th {\n",
       "        text-align: right;\n",
       "    }\n",
       "</style>\n",
       "<table border=\"1\" class=\"dataframe\">\n",
       "  <thead>\n",
       "    <tr style=\"text-align: right;\">\n",
       "      <th></th>\n",
       "      <th>first_name</th>\n",
       "      <th>last_name</th>\n",
       "      <th>company_name</th>\n",
       "      <th>address</th>\n",
       "      <th>city</th>\n",
       "      <th>province</th>\n",
       "      <th>postal</th>\n",
       "      <th>phone1</th>\n",
       "      <th>phone2</th>\n",
       "      <th>email</th>\n",
       "      <th>web</th>\n",
       "    </tr>\n",
       "  </thead>\n",
       "  <tbody>\n",
       "    <tr>\n",
       "      <th>0</th>\n",
       "      <td>Francoise</td>\n",
       "      <td>Rautenstrauch</td>\n",
       "      <td>Riebesell, H F Jr</td>\n",
       "      <td>2335 Canton Hwy #6</td>\n",
       "      <td>Windsor</td>\n",
       "      <td>ON</td>\n",
       "      <td>N8N 3N2</td>\n",
       "      <td>519-569-8399</td>\n",
       "      <td>519-978-6179</td>\n",
       "      <td>francoise.rautenstrauch@rautenstrauch.com</td>\n",
       "      <td>http://www.riebesellhfjr.com</td>\n",
       "    </tr>\n",
       "    <tr>\n",
       "      <th>1</th>\n",
       "      <td>Kendra</td>\n",
       "      <td>Loud</td>\n",
       "      <td>Deloitte &amp; Touche</td>\n",
       "      <td>6 Arch St #9757</td>\n",
       "      <td>Alcida</td>\n",
       "      <td>NB</td>\n",
       "      <td>E8J 2C4</td>\n",
       "      <td>506-363-1526</td>\n",
       "      <td>506-932-4472</td>\n",
       "      <td>kloud@gmail.com</td>\n",
       "      <td>http://www.deloittetouche.com</td>\n",
       "    </tr>\n",
       "    <tr>\n",
       "      <th>2</th>\n",
       "      <td>Lourdes</td>\n",
       "      <td>Bauswell</td>\n",
       "      <td>Oklahoma Neon Inc</td>\n",
       "      <td>9547 Belmont Rd #21</td>\n",
       "      <td>Belleville</td>\n",
       "      <td>ON</td>\n",
       "      <td>K8P 1B3</td>\n",
       "      <td>613-903-7043</td>\n",
       "      <td>613-638-6682</td>\n",
       "      <td>lourdes_bauswell@aol.com</td>\n",
       "      <td>http://www.oklahomaneoninc.com</td>\n",
       "    </tr>\n",
       "    <tr>\n",
       "      <th>3</th>\n",
       "      <td>Hannah</td>\n",
       "      <td>Edmison</td>\n",
       "      <td>M B A Paint Stores</td>\n",
       "      <td>73 Pittsford Victor Rd</td>\n",
       "      <td>Vancouver</td>\n",
       "      <td>BC</td>\n",
       "      <td>V5Z 3K2</td>\n",
       "      <td>604-334-3686</td>\n",
       "      <td>604-692-7694</td>\n",
       "      <td>hannah@yahoo.com</td>\n",
       "      <td>http://www.mbapaintstores.com</td>\n",
       "    </tr>\n",
       "    <tr>\n",
       "      <th>4</th>\n",
       "      <td>Tom</td>\n",
       "      <td>Loeza</td>\n",
       "      <td>Sheraton Shreveport Hotel</td>\n",
       "      <td>447 Commercial St Se</td>\n",
       "      <td>LIle-Perrot</td>\n",
       "      <td>QC</td>\n",
       "      <td>J7V 4T4</td>\n",
       "      <td>514-487-6096</td>\n",
       "      <td>514-727-4760</td>\n",
       "      <td>tom.loeza@gmail.com</td>\n",
       "      <td>http://www.sheratonshreveporthotel.com</td>\n",
       "    </tr>\n",
       "    <tr>\n",
       "      <th>...</th>\n",
       "      <td>...</td>\n",
       "      <td>...</td>\n",
       "      <td>...</td>\n",
       "      <td>...</td>\n",
       "      <td>...</td>\n",
       "      <td>...</td>\n",
       "      <td>...</td>\n",
       "      <td>...</td>\n",
       "      <td>...</td>\n",
       "      <td>...</td>\n",
       "      <td>...</td>\n",
       "    </tr>\n",
       "    <tr>\n",
       "      <th>495</th>\n",
       "      <td>Erin</td>\n",
       "      <td>Delbosque</td>\n",
       "      <td>Curtiss Wright Corp</td>\n",
       "      <td>357 W Mount Royal Ave</td>\n",
       "      <td>Longueuil</td>\n",
       "      <td>QC</td>\n",
       "      <td>J4M 2A8</td>\n",
       "      <td>450-316-7813</td>\n",
       "      <td>450-491-8703</td>\n",
       "      <td>erin@cox.net</td>\n",
       "      <td>http://www.curtisswrightcorp.com</td>\n",
       "    </tr>\n",
       "    <tr>\n",
       "      <th>496</th>\n",
       "      <td>Kassandra</td>\n",
       "      <td>Marushia</td>\n",
       "      <td>Phelps Tool &amp; Die Co Inc</td>\n",
       "      <td>123 Euclid Ave #9396</td>\n",
       "      <td>Nanaimo</td>\n",
       "      <td>BC</td>\n",
       "      <td>V9R 1C9</td>\n",
       "      <td>250-646-6446</td>\n",
       "      <td>250-571-5058</td>\n",
       "      <td>kassandra@gmail.com</td>\n",
       "      <td>http://www.phelpstooldiecoinc.com</td>\n",
       "    </tr>\n",
       "    <tr>\n",
       "      <th>497</th>\n",
       "      <td>Leslee</td>\n",
       "      <td>Matsuno</td>\n",
       "      <td>Factory Mattress Outlet</td>\n",
       "      <td>1251 E Main St #990</td>\n",
       "      <td>Quebec</td>\n",
       "      <td>QC</td>\n",
       "      <td>G1H 1A6</td>\n",
       "      <td>418-460-5773</td>\n",
       "      <td>418-543-9015</td>\n",
       "      <td>leslee_matsuno@matsuno.org</td>\n",
       "      <td>http://www.factorymattressoutlet.com</td>\n",
       "    </tr>\n",
       "    <tr>\n",
       "      <th>498</th>\n",
       "      <td>Daniel</td>\n",
       "      <td>Dobler</td>\n",
       "      <td>Cosgroves N End Plbg &amp; Hdwr Co</td>\n",
       "      <td>259 W 17th St #39</td>\n",
       "      <td>Beresford</td>\n",
       "      <td>NB</td>\n",
       "      <td>E8K 1B7</td>\n",
       "      <td>506-617-2607</td>\n",
       "      <td>506-951-8403</td>\n",
       "      <td>ddobler@dobler.com</td>\n",
       "      <td>http://www.cosgrovesnendplbghdwrco.com</td>\n",
       "    </tr>\n",
       "    <tr>\n",
       "      <th>499</th>\n",
       "      <td>Antonio</td>\n",
       "      <td>Unruh</td>\n",
       "      <td>Mission Lincoln Properties</td>\n",
       "      <td>9 Route 38</td>\n",
       "      <td>Port Coquitlam</td>\n",
       "      <td>BC</td>\n",
       "      <td>V3C 2Z4</td>\n",
       "      <td>604-624-7690</td>\n",
       "      <td>604-966-9833</td>\n",
       "      <td>antonio.unruh@hotmail.com</td>\n",
       "      <td>http://www.missionlincolnproperties.com</td>\n",
       "    </tr>\n",
       "  </tbody>\n",
       "</table>\n",
       "<p>500 rows × 11 columns</p>\n",
       "</div>"
      ],
      "text/plain": [
       "    first_name      last_name                    company_name  \\\n",
       "0    Francoise  Rautenstrauch               Riebesell, H F Jr   \n",
       "1       Kendra           Loud               Deloitte & Touche   \n",
       "2      Lourdes       Bauswell               Oklahoma Neon Inc   \n",
       "3       Hannah        Edmison              M B A Paint Stores   \n",
       "4          Tom          Loeza       Sheraton Shreveport Hotel   \n",
       "..         ...            ...                             ...   \n",
       "495       Erin      Delbosque             Curtiss Wright Corp   \n",
       "496  Kassandra       Marushia        Phelps Tool & Die Co Inc   \n",
       "497     Leslee        Matsuno         Factory Mattress Outlet   \n",
       "498     Daniel         Dobler  Cosgroves N End Plbg & Hdwr Co   \n",
       "499    Antonio          Unruh      Mission Lincoln Properties   \n",
       "\n",
       "                    address            city province   postal        phone1  \\\n",
       "0        2335 Canton Hwy #6         Windsor       ON  N8N 3N2  519-569-8399   \n",
       "1           6 Arch St #9757          Alcida       NB  E8J 2C4  506-363-1526   \n",
       "2       9547 Belmont Rd #21      Belleville       ON  K8P 1B3  613-903-7043   \n",
       "3    73 Pittsford Victor Rd       Vancouver       BC  V5Z 3K2  604-334-3686   \n",
       "4      447 Commercial St Se     LIle-Perrot       QC  J7V 4T4  514-487-6096   \n",
       "..                      ...             ...      ...      ...           ...   \n",
       "495   357 W Mount Royal Ave       Longueuil       QC  J4M 2A8  450-316-7813   \n",
       "496    123 Euclid Ave #9396         Nanaimo       BC  V9R 1C9  250-646-6446   \n",
       "497     1251 E Main St #990          Quebec       QC  G1H 1A6  418-460-5773   \n",
       "498       259 W 17th St #39       Beresford       NB  E8K 1B7  506-617-2607   \n",
       "499              9 Route 38  Port Coquitlam       BC  V3C 2Z4  604-624-7690   \n",
       "\n",
       "           phone2                                      email  \\\n",
       "0    519-978-6179  francoise.rautenstrauch@rautenstrauch.com   \n",
       "1    506-932-4472                            kloud@gmail.com   \n",
       "2    613-638-6682                   lourdes_bauswell@aol.com   \n",
       "3    604-692-7694                           hannah@yahoo.com   \n",
       "4    514-727-4760                        tom.loeza@gmail.com   \n",
       "..            ...                                        ...   \n",
       "495  450-491-8703                               erin@cox.net   \n",
       "496  250-571-5058                        kassandra@gmail.com   \n",
       "497  418-543-9015                 leslee_matsuno@matsuno.org   \n",
       "498  506-951-8403                         ddobler@dobler.com   \n",
       "499  604-966-9833                  antonio.unruh@hotmail.com   \n",
       "\n",
       "                                         web  \n",
       "0               http://www.riebesellhfjr.com  \n",
       "1              http://www.deloittetouche.com  \n",
       "2             http://www.oklahomaneoninc.com  \n",
       "3              http://www.mbapaintstores.com  \n",
       "4     http://www.sheratonshreveporthotel.com  \n",
       "..                                       ...  \n",
       "495         http://www.curtisswrightcorp.com  \n",
       "496        http://www.phelpstooldiecoinc.com  \n",
       "497     http://www.factorymattressoutlet.com  \n",
       "498   http://www.cosgrovesnendplbghdwrco.com  \n",
       "499  http://www.missionlincolnproperties.com  \n",
       "\n",
       "[500 rows x 11 columns]"
      ]
     },
     "execution_count": 198,
     "metadata": {},
     "output_type": "execute_result"
    }
   ],
   "source": [
    "df = pd.read_csv('ca-500.csv', sep=';')\n",
    "df"
   ]
  },
  {
   "cell_type": "code",
   "execution_count": 199,
   "id": "5607d90d-a077-40dd-9c3e-a633e5415f06",
   "metadata": {},
   "outputs": [
    {
     "data": {
      "text/plain": [
       "pandas.core.frame.DataFrame"
      ]
     },
     "execution_count": 199,
     "metadata": {},
     "output_type": "execute_result"
    }
   ],
   "source": [
    "type(df)"
   ]
  },
  {
   "cell_type": "code",
   "execution_count": 200,
   "id": "b36d53e6-0b69-453a-a080-24040daac4f7",
   "metadata": {},
   "outputs": [],
   "source": [
    "def bereken_iets(a, b):\n",
    "    return 3 * a + 7 * b + 12"
   ]
  },
  {
   "cell_type": "code",
   "execution_count": 202,
   "id": "a2adf1f9-5f23-4ce5-a9c3-77760ff9d82f",
   "metadata": {},
   "outputs": [
    {
     "name": "stdout",
     "output_type": "stream",
     "text": [
      "Het resultaat is 63\n"
     ]
    }
   ],
   "source": [
    "resultaat = bereken_iets(3, 6)\n",
    "print(f'Het resultaat is {resultaat}')"
   ]
  },
  {
   "cell_type": "code",
   "execution_count": null,
   "id": "b0e773d5-553d-4f82-b3b7-3307fe7cb3ee",
   "metadata": {},
   "outputs": [],
   "source": []
  }
 ],
 "metadata": {
  "kernelspec": {
   "display_name": "Python 3 (ipykernel)",
   "language": "python",
   "name": "python3"
  },
  "language_info": {
   "codemirror_mode": {
    "name": "ipython",
    "version": 3
   },
   "file_extension": ".py",
   "mimetype": "text/x-python",
   "name": "python",
   "nbconvert_exporter": "python",
   "pygments_lexer": "ipython3",
   "version": "3.12.7"
  }
 },
 "nbformat": 4,
 "nbformat_minor": 5
}
